{
  "nbformat": 4,
  "nbformat_minor": 0,
  "metadata": {
    "colab": {
      "name": "fast_inference_transformers_on_CPU.ipynb",
      "provenance": [],
      "collapsed_sections": []
    },
    "kernelspec": {
      "display_name": "Python 3",
      "name": "python3"
    },
    "language_info": {
      "name": "python"
    },
    "widgets": {
      "application/vnd.jupyter.widget-state+json": {
        "485333784c724dcfb2b5a629d5b5df1d": {
          "model_module": "@jupyter-widgets/controls",
          "model_name": "HBoxModel",
          "model_module_version": "1.5.0",
          "state": {
            "_view_name": "HBoxView",
            "_dom_classes": [],
            "_model_name": "HBoxModel",
            "_view_module": "@jupyter-widgets/controls",
            "_model_module_version": "1.5.0",
            "_view_count": null,
            "_view_module_version": "1.5.0",
            "box_style": "",
            "layout": "IPY_MODEL_daf73dbf3e4d48d98d48395d8fc1282e",
            "_model_module": "@jupyter-widgets/controls",
            "children": [
              "IPY_MODEL_03109d842c74499382bc8c3c8234cb3d",
              "IPY_MODEL_4832e8ea4d234bc288fa768a64da7b07",
              "IPY_MODEL_a82e6a3e16514901a11b2ad390dc8aec"
            ]
          }
        },
        "daf73dbf3e4d48d98d48395d8fc1282e": {
          "model_module": "@jupyter-widgets/base",
          "model_name": "LayoutModel",
          "model_module_version": "1.2.0",
          "state": {
            "_view_name": "LayoutView",
            "grid_template_rows": null,
            "right": null,
            "justify_content": null,
            "_view_module": "@jupyter-widgets/base",
            "overflow": null,
            "_model_module_version": "1.2.0",
            "_view_count": null,
            "flex_flow": null,
            "width": null,
            "min_width": null,
            "border": null,
            "align_items": null,
            "bottom": null,
            "_model_module": "@jupyter-widgets/base",
            "top": null,
            "grid_column": null,
            "overflow_y": null,
            "overflow_x": null,
            "grid_auto_flow": null,
            "grid_area": null,
            "grid_template_columns": null,
            "flex": null,
            "_model_name": "LayoutModel",
            "justify_items": null,
            "grid_row": null,
            "max_height": null,
            "align_content": null,
            "visibility": null,
            "align_self": null,
            "height": null,
            "min_height": null,
            "padding": null,
            "grid_auto_rows": null,
            "grid_gap": null,
            "max_width": null,
            "order": null,
            "_view_module_version": "1.2.0",
            "grid_template_areas": null,
            "object_position": null,
            "object_fit": null,
            "grid_auto_columns": null,
            "margin": null,
            "display": null,
            "left": null
          }
        },
        "03109d842c74499382bc8c3c8234cb3d": {
          "model_module": "@jupyter-widgets/controls",
          "model_name": "HTMLModel",
          "model_module_version": "1.5.0",
          "state": {
            "_view_name": "HTMLView",
            "style": "IPY_MODEL_a9832e3f455446c69d4a5ab5e370de24",
            "_dom_classes": [],
            "description": "",
            "_model_name": "HTMLModel",
            "placeholder": "​",
            "_view_module": "@jupyter-widgets/controls",
            "_model_module_version": "1.5.0",
            "value": "Downloading: 100%",
            "_view_count": null,
            "_view_module_version": "1.5.0",
            "description_tooltip": null,
            "_model_module": "@jupyter-widgets/controls",
            "layout": "IPY_MODEL_3a2fe1d7aec647b7bc59114045435a81"
          }
        },
        "4832e8ea4d234bc288fa768a64da7b07": {
          "model_module": "@jupyter-widgets/controls",
          "model_name": "FloatProgressModel",
          "model_module_version": "1.5.0",
          "state": {
            "_view_name": "ProgressView",
            "style": "IPY_MODEL_9e9b4b5f047742e6be295e09dd689b22",
            "_dom_classes": [],
            "description": "",
            "_model_name": "FloatProgressModel",
            "bar_style": "success",
            "max": 494,
            "_view_module": "@jupyter-widgets/controls",
            "_model_module_version": "1.5.0",
            "value": 494,
            "_view_count": null,
            "_view_module_version": "1.5.0",
            "orientation": "horizontal",
            "min": 0,
            "description_tooltip": null,
            "_model_module": "@jupyter-widgets/controls",
            "layout": "IPY_MODEL_5b07fa553e0b4f4287e08a777c48b9b8"
          }
        },
        "a82e6a3e16514901a11b2ad390dc8aec": {
          "model_module": "@jupyter-widgets/controls",
          "model_name": "HTMLModel",
          "model_module_version": "1.5.0",
          "state": {
            "_view_name": "HTMLView",
            "style": "IPY_MODEL_3f96899ef3cf411ca85c32609f8b62c9",
            "_dom_classes": [],
            "description": "",
            "_model_name": "HTMLModel",
            "placeholder": "​",
            "_view_module": "@jupyter-widgets/controls",
            "_model_module_version": "1.5.0",
            "value": " 494/494 [00:00&lt;00:00, 8.50kB/s]",
            "_view_count": null,
            "_view_module_version": "1.5.0",
            "description_tooltip": null,
            "_model_module": "@jupyter-widgets/controls",
            "layout": "IPY_MODEL_1d3ddc8c772943e08db555d7149bb673"
          }
        },
        "a9832e3f455446c69d4a5ab5e370de24": {
          "model_module": "@jupyter-widgets/controls",
          "model_name": "DescriptionStyleModel",
          "model_module_version": "1.5.0",
          "state": {
            "_view_name": "StyleView",
            "_model_name": "DescriptionStyleModel",
            "description_width": "",
            "_view_module": "@jupyter-widgets/base",
            "_model_module_version": "1.5.0",
            "_view_count": null,
            "_view_module_version": "1.2.0",
            "_model_module": "@jupyter-widgets/controls"
          }
        },
        "3a2fe1d7aec647b7bc59114045435a81": {
          "model_module": "@jupyter-widgets/base",
          "model_name": "LayoutModel",
          "model_module_version": "1.2.0",
          "state": {
            "_view_name": "LayoutView",
            "grid_template_rows": null,
            "right": null,
            "justify_content": null,
            "_view_module": "@jupyter-widgets/base",
            "overflow": null,
            "_model_module_version": "1.2.0",
            "_view_count": null,
            "flex_flow": null,
            "width": null,
            "min_width": null,
            "border": null,
            "align_items": null,
            "bottom": null,
            "_model_module": "@jupyter-widgets/base",
            "top": null,
            "grid_column": null,
            "overflow_y": null,
            "overflow_x": null,
            "grid_auto_flow": null,
            "grid_area": null,
            "grid_template_columns": null,
            "flex": null,
            "_model_name": "LayoutModel",
            "justify_items": null,
            "grid_row": null,
            "max_height": null,
            "align_content": null,
            "visibility": null,
            "align_self": null,
            "height": null,
            "min_height": null,
            "padding": null,
            "grid_auto_rows": null,
            "grid_gap": null,
            "max_width": null,
            "order": null,
            "_view_module_version": "1.2.0",
            "grid_template_areas": null,
            "object_position": null,
            "object_fit": null,
            "grid_auto_columns": null,
            "margin": null,
            "display": null,
            "left": null
          }
        },
        "9e9b4b5f047742e6be295e09dd689b22": {
          "model_module": "@jupyter-widgets/controls",
          "model_name": "ProgressStyleModel",
          "model_module_version": "1.5.0",
          "state": {
            "_view_name": "StyleView",
            "_model_name": "ProgressStyleModel",
            "description_width": "",
            "_view_module": "@jupyter-widgets/base",
            "_model_module_version": "1.5.0",
            "_view_count": null,
            "_view_module_version": "1.2.0",
            "bar_color": null,
            "_model_module": "@jupyter-widgets/controls"
          }
        },
        "5b07fa553e0b4f4287e08a777c48b9b8": {
          "model_module": "@jupyter-widgets/base",
          "model_name": "LayoutModel",
          "model_module_version": "1.2.0",
          "state": {
            "_view_name": "LayoutView",
            "grid_template_rows": null,
            "right": null,
            "justify_content": null,
            "_view_module": "@jupyter-widgets/base",
            "overflow": null,
            "_model_module_version": "1.2.0",
            "_view_count": null,
            "flex_flow": null,
            "width": null,
            "min_width": null,
            "border": null,
            "align_items": null,
            "bottom": null,
            "_model_module": "@jupyter-widgets/base",
            "top": null,
            "grid_column": null,
            "overflow_y": null,
            "overflow_x": null,
            "grid_auto_flow": null,
            "grid_area": null,
            "grid_template_columns": null,
            "flex": null,
            "_model_name": "LayoutModel",
            "justify_items": null,
            "grid_row": null,
            "max_height": null,
            "align_content": null,
            "visibility": null,
            "align_self": null,
            "height": null,
            "min_height": null,
            "padding": null,
            "grid_auto_rows": null,
            "grid_gap": null,
            "max_width": null,
            "order": null,
            "_view_module_version": "1.2.0",
            "grid_template_areas": null,
            "object_position": null,
            "object_fit": null,
            "grid_auto_columns": null,
            "margin": null,
            "display": null,
            "left": null
          }
        },
        "3f96899ef3cf411ca85c32609f8b62c9": {
          "model_module": "@jupyter-widgets/controls",
          "model_name": "DescriptionStyleModel",
          "model_module_version": "1.5.0",
          "state": {
            "_view_name": "StyleView",
            "_model_name": "DescriptionStyleModel",
            "description_width": "",
            "_view_module": "@jupyter-widgets/base",
            "_model_module_version": "1.5.0",
            "_view_count": null,
            "_view_module_version": "1.2.0",
            "_model_module": "@jupyter-widgets/controls"
          }
        },
        "1d3ddc8c772943e08db555d7149bb673": {
          "model_module": "@jupyter-widgets/base",
          "model_name": "LayoutModel",
          "model_module_version": "1.2.0",
          "state": {
            "_view_name": "LayoutView",
            "grid_template_rows": null,
            "right": null,
            "justify_content": null,
            "_view_module": "@jupyter-widgets/base",
            "overflow": null,
            "_model_module_version": "1.2.0",
            "_view_count": null,
            "flex_flow": null,
            "width": null,
            "min_width": null,
            "border": null,
            "align_items": null,
            "bottom": null,
            "_model_module": "@jupyter-widgets/base",
            "top": null,
            "grid_column": null,
            "overflow_y": null,
            "overflow_x": null,
            "grid_auto_flow": null,
            "grid_area": null,
            "grid_template_columns": null,
            "flex": null,
            "_model_name": "LayoutModel",
            "justify_items": null,
            "grid_row": null,
            "max_height": null,
            "align_content": null,
            "visibility": null,
            "align_self": null,
            "height": null,
            "min_height": null,
            "padding": null,
            "grid_auto_rows": null,
            "grid_gap": null,
            "max_width": null,
            "order": null,
            "_view_module_version": "1.2.0",
            "grid_template_areas": null,
            "object_position": null,
            "object_fit": null,
            "grid_auto_columns": null,
            "margin": null,
            "display": null,
            "left": null
          }
        },
        "87c116214fbb4f188e8a8faa4a741207": {
          "model_module": "@jupyter-widgets/controls",
          "model_name": "HBoxModel",
          "model_module_version": "1.5.0",
          "state": {
            "_view_name": "HBoxView",
            "_dom_classes": [],
            "_model_name": "HBoxModel",
            "_view_module": "@jupyter-widgets/controls",
            "_model_module_version": "1.5.0",
            "_view_count": null,
            "_view_module_version": "1.5.0",
            "box_style": "",
            "layout": "IPY_MODEL_f35d13e8523b44889a31ba1e53c68fa8",
            "_model_module": "@jupyter-widgets/controls",
            "children": [
              "IPY_MODEL_e6ab3d39db2c4b29a672173f05ad6d26",
              "IPY_MODEL_22ad65c969aa403283388ac972360187",
              "IPY_MODEL_d8b3c21741cb4bf690f6e718b4cc6f01"
            ]
          }
        },
        "f35d13e8523b44889a31ba1e53c68fa8": {
          "model_module": "@jupyter-widgets/base",
          "model_name": "LayoutModel",
          "model_module_version": "1.2.0",
          "state": {
            "_view_name": "LayoutView",
            "grid_template_rows": null,
            "right": null,
            "justify_content": null,
            "_view_module": "@jupyter-widgets/base",
            "overflow": null,
            "_model_module_version": "1.2.0",
            "_view_count": null,
            "flex_flow": null,
            "width": null,
            "min_width": null,
            "border": null,
            "align_items": null,
            "bottom": null,
            "_model_module": "@jupyter-widgets/base",
            "top": null,
            "grid_column": null,
            "overflow_y": null,
            "overflow_x": null,
            "grid_auto_flow": null,
            "grid_area": null,
            "grid_template_columns": null,
            "flex": null,
            "_model_name": "LayoutModel",
            "justify_items": null,
            "grid_row": null,
            "max_height": null,
            "align_content": null,
            "visibility": null,
            "align_self": null,
            "height": null,
            "min_height": null,
            "padding": null,
            "grid_auto_rows": null,
            "grid_gap": null,
            "max_width": null,
            "order": null,
            "_view_module_version": "1.2.0",
            "grid_template_areas": null,
            "object_position": null,
            "object_fit": null,
            "grid_auto_columns": null,
            "margin": null,
            "display": null,
            "left": null
          }
        },
        "e6ab3d39db2c4b29a672173f05ad6d26": {
          "model_module": "@jupyter-widgets/controls",
          "model_name": "HTMLModel",
          "model_module_version": "1.5.0",
          "state": {
            "_view_name": "HTMLView",
            "style": "IPY_MODEL_4fc621bcb1f64f8e935997af954e7082",
            "_dom_classes": [],
            "description": "",
            "_model_name": "HTMLModel",
            "placeholder": "​",
            "_view_module": "@jupyter-widgets/controls",
            "_model_module_version": "1.5.0",
            "value": "Downloading: 100%",
            "_view_count": null,
            "_view_module_version": "1.5.0",
            "description_tooltip": null,
            "_model_module": "@jupyter-widgets/controls",
            "layout": "IPY_MODEL_5dfe88fdecea45f4847230e69303e0e0"
          }
        },
        "22ad65c969aa403283388ac972360187": {
          "model_module": "@jupyter-widgets/controls",
          "model_name": "FloatProgressModel",
          "model_module_version": "1.5.0",
          "state": {
            "_view_name": "ProgressView",
            "style": "IPY_MODEL_dcaa5c449c6842c49a56bfb1d73fe8b9",
            "_dom_classes": [],
            "description": "",
            "_model_name": "FloatProgressModel",
            "bar_style": "success",
            "max": 862,
            "_view_module": "@jupyter-widgets/controls",
            "_model_module_version": "1.5.0",
            "value": 862,
            "_view_count": null,
            "_view_module_version": "1.5.0",
            "orientation": "horizontal",
            "min": 0,
            "description_tooltip": null,
            "_model_module": "@jupyter-widgets/controls",
            "layout": "IPY_MODEL_320c7a8b18064524a97b937a1aeb02c3"
          }
        },
        "d8b3c21741cb4bf690f6e718b4cc6f01": {
          "model_module": "@jupyter-widgets/controls",
          "model_name": "HTMLModel",
          "model_module_version": "1.5.0",
          "state": {
            "_view_name": "HTMLView",
            "style": "IPY_MODEL_0dd496378d1c4506b779a5a3ea531c43",
            "_dom_classes": [],
            "description": "",
            "_model_name": "HTMLModel",
            "placeholder": "​",
            "_view_module": "@jupyter-widgets/controls",
            "_model_module_version": "1.5.0",
            "value": " 862/862 [00:00&lt;00:00, 20.0kB/s]",
            "_view_count": null,
            "_view_module_version": "1.5.0",
            "description_tooltip": null,
            "_model_module": "@jupyter-widgets/controls",
            "layout": "IPY_MODEL_b9a6ae35a2d8450ead8a3fa2deecfe48"
          }
        },
        "4fc621bcb1f64f8e935997af954e7082": {
          "model_module": "@jupyter-widgets/controls",
          "model_name": "DescriptionStyleModel",
          "model_module_version": "1.5.0",
          "state": {
            "_view_name": "StyleView",
            "_model_name": "DescriptionStyleModel",
            "description_width": "",
            "_view_module": "@jupyter-widgets/base",
            "_model_module_version": "1.5.0",
            "_view_count": null,
            "_view_module_version": "1.2.0",
            "_model_module": "@jupyter-widgets/controls"
          }
        },
        "5dfe88fdecea45f4847230e69303e0e0": {
          "model_module": "@jupyter-widgets/base",
          "model_name": "LayoutModel",
          "model_module_version": "1.2.0",
          "state": {
            "_view_name": "LayoutView",
            "grid_template_rows": null,
            "right": null,
            "justify_content": null,
            "_view_module": "@jupyter-widgets/base",
            "overflow": null,
            "_model_module_version": "1.2.0",
            "_view_count": null,
            "flex_flow": null,
            "width": null,
            "min_width": null,
            "border": null,
            "align_items": null,
            "bottom": null,
            "_model_module": "@jupyter-widgets/base",
            "top": null,
            "grid_column": null,
            "overflow_y": null,
            "overflow_x": null,
            "grid_auto_flow": null,
            "grid_area": null,
            "grid_template_columns": null,
            "flex": null,
            "_model_name": "LayoutModel",
            "justify_items": null,
            "grid_row": null,
            "max_height": null,
            "align_content": null,
            "visibility": null,
            "align_self": null,
            "height": null,
            "min_height": null,
            "padding": null,
            "grid_auto_rows": null,
            "grid_gap": null,
            "max_width": null,
            "order": null,
            "_view_module_version": "1.2.0",
            "grid_template_areas": null,
            "object_position": null,
            "object_fit": null,
            "grid_auto_columns": null,
            "margin": null,
            "display": null,
            "left": null
          }
        },
        "dcaa5c449c6842c49a56bfb1d73fe8b9": {
          "model_module": "@jupyter-widgets/controls",
          "model_name": "ProgressStyleModel",
          "model_module_version": "1.5.0",
          "state": {
            "_view_name": "StyleView",
            "_model_name": "ProgressStyleModel",
            "description_width": "",
            "_view_module": "@jupyter-widgets/base",
            "_model_module_version": "1.5.0",
            "_view_count": null,
            "_view_module_version": "1.2.0",
            "bar_color": null,
            "_model_module": "@jupyter-widgets/controls"
          }
        },
        "320c7a8b18064524a97b937a1aeb02c3": {
          "model_module": "@jupyter-widgets/base",
          "model_name": "LayoutModel",
          "model_module_version": "1.2.0",
          "state": {
            "_view_name": "LayoutView",
            "grid_template_rows": null,
            "right": null,
            "justify_content": null,
            "_view_module": "@jupyter-widgets/base",
            "overflow": null,
            "_model_module_version": "1.2.0",
            "_view_count": null,
            "flex_flow": null,
            "width": null,
            "min_width": null,
            "border": null,
            "align_items": null,
            "bottom": null,
            "_model_module": "@jupyter-widgets/base",
            "top": null,
            "grid_column": null,
            "overflow_y": null,
            "overflow_x": null,
            "grid_auto_flow": null,
            "grid_area": null,
            "grid_template_columns": null,
            "flex": null,
            "_model_name": "LayoutModel",
            "justify_items": null,
            "grid_row": null,
            "max_height": null,
            "align_content": null,
            "visibility": null,
            "align_self": null,
            "height": null,
            "min_height": null,
            "padding": null,
            "grid_auto_rows": null,
            "grid_gap": null,
            "max_width": null,
            "order": null,
            "_view_module_version": "1.2.0",
            "grid_template_areas": null,
            "object_position": null,
            "object_fit": null,
            "grid_auto_columns": null,
            "margin": null,
            "display": null,
            "left": null
          }
        },
        "0dd496378d1c4506b779a5a3ea531c43": {
          "model_module": "@jupyter-widgets/controls",
          "model_name": "DescriptionStyleModel",
          "model_module_version": "1.5.0",
          "state": {
            "_view_name": "StyleView",
            "_model_name": "DescriptionStyleModel",
            "description_width": "",
            "_view_module": "@jupyter-widgets/base",
            "_model_module_version": "1.5.0",
            "_view_count": null,
            "_view_module_version": "1.2.0",
            "_model_module": "@jupyter-widgets/controls"
          }
        },
        "b9a6ae35a2d8450ead8a3fa2deecfe48": {
          "model_module": "@jupyter-widgets/base",
          "model_name": "LayoutModel",
          "model_module_version": "1.2.0",
          "state": {
            "_view_name": "LayoutView",
            "grid_template_rows": null,
            "right": null,
            "justify_content": null,
            "_view_module": "@jupyter-widgets/base",
            "overflow": null,
            "_model_module_version": "1.2.0",
            "_view_count": null,
            "flex_flow": null,
            "width": null,
            "min_width": null,
            "border": null,
            "align_items": null,
            "bottom": null,
            "_model_module": "@jupyter-widgets/base",
            "top": null,
            "grid_column": null,
            "overflow_y": null,
            "overflow_x": null,
            "grid_auto_flow": null,
            "grid_area": null,
            "grid_template_columns": null,
            "flex": null,
            "_model_name": "LayoutModel",
            "justify_items": null,
            "grid_row": null,
            "max_height": null,
            "align_content": null,
            "visibility": null,
            "align_self": null,
            "height": null,
            "min_height": null,
            "padding": null,
            "grid_auto_rows": null,
            "grid_gap": null,
            "max_width": null,
            "order": null,
            "_view_module_version": "1.2.0",
            "grid_template_areas": null,
            "object_position": null,
            "object_fit": null,
            "grid_auto_columns": null,
            "margin": null,
            "display": null,
            "left": null
          }
        },
        "a641e9c5693e46298c3b9d2e6c3f4c38": {
          "model_module": "@jupyter-widgets/controls",
          "model_name": "HBoxModel",
          "model_module_version": "1.5.0",
          "state": {
            "_view_name": "HBoxView",
            "_dom_classes": [],
            "_model_name": "HBoxModel",
            "_view_module": "@jupyter-widgets/controls",
            "_model_module_version": "1.5.0",
            "_view_count": null,
            "_view_module_version": "1.5.0",
            "box_style": "",
            "layout": "IPY_MODEL_6cf56d1eef0945e2a354470bf9153e85",
            "_model_module": "@jupyter-widgets/controls",
            "children": [
              "IPY_MODEL_a3eade920d7b4a8ba53c03c84093897d",
              "IPY_MODEL_7d02cfd8c8824f2d92525b5505150f93",
              "IPY_MODEL_b018c6a0e3ed40ce9210ad80deed1ae9"
            ]
          }
        },
        "6cf56d1eef0945e2a354470bf9153e85": {
          "model_module": "@jupyter-widgets/base",
          "model_name": "LayoutModel",
          "model_module_version": "1.2.0",
          "state": {
            "_view_name": "LayoutView",
            "grid_template_rows": null,
            "right": null,
            "justify_content": null,
            "_view_module": "@jupyter-widgets/base",
            "overflow": null,
            "_model_module_version": "1.2.0",
            "_view_count": null,
            "flex_flow": null,
            "width": null,
            "min_width": null,
            "border": null,
            "align_items": null,
            "bottom": null,
            "_model_module": "@jupyter-widgets/base",
            "top": null,
            "grid_column": null,
            "overflow_y": null,
            "overflow_x": null,
            "grid_auto_flow": null,
            "grid_area": null,
            "grid_template_columns": null,
            "flex": null,
            "_model_name": "LayoutModel",
            "justify_items": null,
            "grid_row": null,
            "max_height": null,
            "align_content": null,
            "visibility": null,
            "align_self": null,
            "height": null,
            "min_height": null,
            "padding": null,
            "grid_auto_rows": null,
            "grid_gap": null,
            "max_width": null,
            "order": null,
            "_view_module_version": "1.2.0",
            "grid_template_areas": null,
            "object_position": null,
            "object_fit": null,
            "grid_auto_columns": null,
            "margin": null,
            "display": null,
            "left": null
          }
        },
        "a3eade920d7b4a8ba53c03c84093897d": {
          "model_module": "@jupyter-widgets/controls",
          "model_name": "HTMLModel",
          "model_module_version": "1.5.0",
          "state": {
            "_view_name": "HTMLView",
            "style": "IPY_MODEL_de1b674460f841468cfe002415927347",
            "_dom_classes": [],
            "description": "",
            "_model_name": "HTMLModel",
            "placeholder": "​",
            "_view_module": "@jupyter-widgets/controls",
            "_model_module_version": "1.5.0",
            "value": "Downloading: 100%",
            "_view_count": null,
            "_view_module_version": "1.5.0",
            "description_tooltip": null,
            "_model_module": "@jupyter-widgets/controls",
            "layout": "IPY_MODEL_41d2acf608a746a386a4afe6478f395e"
          }
        },
        "7d02cfd8c8824f2d92525b5505150f93": {
          "model_module": "@jupyter-widgets/controls",
          "model_name": "FloatProgressModel",
          "model_module_version": "1.5.0",
          "state": {
            "_view_name": "ProgressView",
            "style": "IPY_MODEL_1838d80c3f3e434291124531d308d200",
            "_dom_classes": [],
            "description": "",
            "_model_name": "FloatProgressModel",
            "bar_style": "success",
            "max": 209528,
            "_view_module": "@jupyter-widgets/controls",
            "_model_module_version": "1.5.0",
            "value": 209528,
            "_view_count": null,
            "_view_module_version": "1.5.0",
            "orientation": "horizontal",
            "min": 0,
            "description_tooltip": null,
            "_model_module": "@jupyter-widgets/controls",
            "layout": "IPY_MODEL_31486fd26e074c7999ae603d5e527a64"
          }
        },
        "b018c6a0e3ed40ce9210ad80deed1ae9": {
          "model_module": "@jupyter-widgets/controls",
          "model_name": "HTMLModel",
          "model_module_version": "1.5.0",
          "state": {
            "_view_name": "HTMLView",
            "style": "IPY_MODEL_1c340ae116394401b57da2934f82af10",
            "_dom_classes": [],
            "description": "",
            "_model_name": "HTMLModel",
            "placeholder": "​",
            "_view_module": "@jupyter-widgets/controls",
            "_model_module_version": "1.5.0",
            "value": " 205k/205k [00:00&lt;00:00, 1.36MB/s]",
            "_view_count": null,
            "_view_module_version": "1.5.0",
            "description_tooltip": null,
            "_model_module": "@jupyter-widgets/controls",
            "layout": "IPY_MODEL_2c955331f6c34eb380a2c7a9753b2ff4"
          }
        },
        "de1b674460f841468cfe002415927347": {
          "model_module": "@jupyter-widgets/controls",
          "model_name": "DescriptionStyleModel",
          "model_module_version": "1.5.0",
          "state": {
            "_view_name": "StyleView",
            "_model_name": "DescriptionStyleModel",
            "description_width": "",
            "_view_module": "@jupyter-widgets/base",
            "_model_module_version": "1.5.0",
            "_view_count": null,
            "_view_module_version": "1.2.0",
            "_model_module": "@jupyter-widgets/controls"
          }
        },
        "41d2acf608a746a386a4afe6478f395e": {
          "model_module": "@jupyter-widgets/base",
          "model_name": "LayoutModel",
          "model_module_version": "1.2.0",
          "state": {
            "_view_name": "LayoutView",
            "grid_template_rows": null,
            "right": null,
            "justify_content": null,
            "_view_module": "@jupyter-widgets/base",
            "overflow": null,
            "_model_module_version": "1.2.0",
            "_view_count": null,
            "flex_flow": null,
            "width": null,
            "min_width": null,
            "border": null,
            "align_items": null,
            "bottom": null,
            "_model_module": "@jupyter-widgets/base",
            "top": null,
            "grid_column": null,
            "overflow_y": null,
            "overflow_x": null,
            "grid_auto_flow": null,
            "grid_area": null,
            "grid_template_columns": null,
            "flex": null,
            "_model_name": "LayoutModel",
            "justify_items": null,
            "grid_row": null,
            "max_height": null,
            "align_content": null,
            "visibility": null,
            "align_self": null,
            "height": null,
            "min_height": null,
            "padding": null,
            "grid_auto_rows": null,
            "grid_gap": null,
            "max_width": null,
            "order": null,
            "_view_module_version": "1.2.0",
            "grid_template_areas": null,
            "object_position": null,
            "object_fit": null,
            "grid_auto_columns": null,
            "margin": null,
            "display": null,
            "left": null
          }
        },
        "1838d80c3f3e434291124531d308d200": {
          "model_module": "@jupyter-widgets/controls",
          "model_name": "ProgressStyleModel",
          "model_module_version": "1.5.0",
          "state": {
            "_view_name": "StyleView",
            "_model_name": "ProgressStyleModel",
            "description_width": "",
            "_view_module": "@jupyter-widgets/base",
            "_model_module_version": "1.5.0",
            "_view_count": null,
            "_view_module_version": "1.2.0",
            "bar_color": null,
            "_model_module": "@jupyter-widgets/controls"
          }
        },
        "31486fd26e074c7999ae603d5e527a64": {
          "model_module": "@jupyter-widgets/base",
          "model_name": "LayoutModel",
          "model_module_version": "1.2.0",
          "state": {
            "_view_name": "LayoutView",
            "grid_template_rows": null,
            "right": null,
            "justify_content": null,
            "_view_module": "@jupyter-widgets/base",
            "overflow": null,
            "_model_module_version": "1.2.0",
            "_view_count": null,
            "flex_flow": null,
            "width": null,
            "min_width": null,
            "border": null,
            "align_items": null,
            "bottom": null,
            "_model_module": "@jupyter-widgets/base",
            "top": null,
            "grid_column": null,
            "overflow_y": null,
            "overflow_x": null,
            "grid_auto_flow": null,
            "grid_area": null,
            "grid_template_columns": null,
            "flex": null,
            "_model_name": "LayoutModel",
            "justify_items": null,
            "grid_row": null,
            "max_height": null,
            "align_content": null,
            "visibility": null,
            "align_self": null,
            "height": null,
            "min_height": null,
            "padding": null,
            "grid_auto_rows": null,
            "grid_gap": null,
            "max_width": null,
            "order": null,
            "_view_module_version": "1.2.0",
            "grid_template_areas": null,
            "object_position": null,
            "object_fit": null,
            "grid_auto_columns": null,
            "margin": null,
            "display": null,
            "left": null
          }
        },
        "1c340ae116394401b57da2934f82af10": {
          "model_module": "@jupyter-widgets/controls",
          "model_name": "DescriptionStyleModel",
          "model_module_version": "1.5.0",
          "state": {
            "_view_name": "StyleView",
            "_model_name": "DescriptionStyleModel",
            "description_width": "",
            "_view_module": "@jupyter-widgets/base",
            "_model_module_version": "1.5.0",
            "_view_count": null,
            "_view_module_version": "1.2.0",
            "_model_module": "@jupyter-widgets/controls"
          }
        },
        "2c955331f6c34eb380a2c7a9753b2ff4": {
          "model_module": "@jupyter-widgets/base",
          "model_name": "LayoutModel",
          "model_module_version": "1.2.0",
          "state": {
            "_view_name": "LayoutView",
            "grid_template_rows": null,
            "right": null,
            "justify_content": null,
            "_view_module": "@jupyter-widgets/base",
            "overflow": null,
            "_model_module_version": "1.2.0",
            "_view_count": null,
            "flex_flow": null,
            "width": null,
            "min_width": null,
            "border": null,
            "align_items": null,
            "bottom": null,
            "_model_module": "@jupyter-widgets/base",
            "top": null,
            "grid_column": null,
            "overflow_y": null,
            "overflow_x": null,
            "grid_auto_flow": null,
            "grid_area": null,
            "grid_template_columns": null,
            "flex": null,
            "_model_name": "LayoutModel",
            "justify_items": null,
            "grid_row": null,
            "max_height": null,
            "align_content": null,
            "visibility": null,
            "align_self": null,
            "height": null,
            "min_height": null,
            "padding": null,
            "grid_auto_rows": null,
            "grid_gap": null,
            "max_width": null,
            "order": null,
            "_view_module_version": "1.2.0",
            "grid_template_areas": null,
            "object_position": null,
            "object_fit": null,
            "grid_auto_columns": null,
            "margin": null,
            "display": null,
            "left": null
          }
        },
        "a91211914d054738992f45436891234d": {
          "model_module": "@jupyter-widgets/controls",
          "model_name": "HBoxModel",
          "model_module_version": "1.5.0",
          "state": {
            "_view_name": "HBoxView",
            "_dom_classes": [],
            "_model_name": "HBoxModel",
            "_view_module": "@jupyter-widgets/controls",
            "_model_module_version": "1.5.0",
            "_view_count": null,
            "_view_module_version": "1.5.0",
            "box_style": "",
            "layout": "IPY_MODEL_bc1cd1a174b4420b960c800fd8ef632c",
            "_model_module": "@jupyter-widgets/controls",
            "children": [
              "IPY_MODEL_6aa4216e3b8f416fad608846bb6c01d1",
              "IPY_MODEL_b72a598f5e8646708b20be7d461b2d6e",
              "IPY_MODEL_d58528d6f8434da8a066a0e5ef359090"
            ]
          }
        },
        "bc1cd1a174b4420b960c800fd8ef632c": {
          "model_module": "@jupyter-widgets/base",
          "model_name": "LayoutModel",
          "model_module_version": "1.2.0",
          "state": {
            "_view_name": "LayoutView",
            "grid_template_rows": null,
            "right": null,
            "justify_content": null,
            "_view_module": "@jupyter-widgets/base",
            "overflow": null,
            "_model_module_version": "1.2.0",
            "_view_count": null,
            "flex_flow": null,
            "width": null,
            "min_width": null,
            "border": null,
            "align_items": null,
            "bottom": null,
            "_model_module": "@jupyter-widgets/base",
            "top": null,
            "grid_column": null,
            "overflow_y": null,
            "overflow_x": null,
            "grid_auto_flow": null,
            "grid_area": null,
            "grid_template_columns": null,
            "flex": null,
            "_model_name": "LayoutModel",
            "justify_items": null,
            "grid_row": null,
            "max_height": null,
            "align_content": null,
            "visibility": null,
            "align_self": null,
            "height": null,
            "min_height": null,
            "padding": null,
            "grid_auto_rows": null,
            "grid_gap": null,
            "max_width": null,
            "order": null,
            "_view_module_version": "1.2.0",
            "grid_template_areas": null,
            "object_position": null,
            "object_fit": null,
            "grid_auto_columns": null,
            "margin": null,
            "display": null,
            "left": null
          }
        },
        "6aa4216e3b8f416fad608846bb6c01d1": {
          "model_module": "@jupyter-widgets/controls",
          "model_name": "HTMLModel",
          "model_module_version": "1.5.0",
          "state": {
            "_view_name": "HTMLView",
            "style": "IPY_MODEL_57faa6d833494ea0af844c1303bc02e8",
            "_dom_classes": [],
            "description": "",
            "_model_name": "HTMLModel",
            "placeholder": "​",
            "_view_module": "@jupyter-widgets/controls",
            "_model_module_version": "1.5.0",
            "value": "Downloading: 100%",
            "_view_count": null,
            "_view_module_version": "1.5.0",
            "description_tooltip": null,
            "_model_module": "@jupyter-widgets/controls",
            "layout": "IPY_MODEL_240b580080e14f8fa0d1beb8fb5d5673"
          }
        },
        "b72a598f5e8646708b20be7d461b2d6e": {
          "model_module": "@jupyter-widgets/controls",
          "model_name": "FloatProgressModel",
          "model_module_version": "1.5.0",
          "state": {
            "_view_name": "ProgressView",
            "style": "IPY_MODEL_159e187fe57d49b7976e0c9b992e330b",
            "_dom_classes": [],
            "description": "",
            "_model_name": "FloatProgressModel",
            "bar_style": "success",
            "max": 112,
            "_view_module": "@jupyter-widgets/controls",
            "_model_module_version": "1.5.0",
            "value": 112,
            "_view_count": null,
            "_view_module_version": "1.5.0",
            "orientation": "horizontal",
            "min": 0,
            "description_tooltip": null,
            "_model_module": "@jupyter-widgets/controls",
            "layout": "IPY_MODEL_885bf670c774498ca66b5d32455daa8f"
          }
        },
        "d58528d6f8434da8a066a0e5ef359090": {
          "model_module": "@jupyter-widgets/controls",
          "model_name": "HTMLModel",
          "model_module_version": "1.5.0",
          "state": {
            "_view_name": "HTMLView",
            "style": "IPY_MODEL_cfd84c37baf84863a7e00fdc262ceab1",
            "_dom_classes": [],
            "description": "",
            "_model_name": "HTMLModel",
            "placeholder": "​",
            "_view_module": "@jupyter-widgets/controls",
            "_model_module_version": "1.5.0",
            "value": " 112/112 [00:00&lt;00:00, 2.75kB/s]",
            "_view_count": null,
            "_view_module_version": "1.5.0",
            "description_tooltip": null,
            "_model_module": "@jupyter-widgets/controls",
            "layout": "IPY_MODEL_f6e1393810dd4307b75efb9822d02b1c"
          }
        },
        "57faa6d833494ea0af844c1303bc02e8": {
          "model_module": "@jupyter-widgets/controls",
          "model_name": "DescriptionStyleModel",
          "model_module_version": "1.5.0",
          "state": {
            "_view_name": "StyleView",
            "_model_name": "DescriptionStyleModel",
            "description_width": "",
            "_view_module": "@jupyter-widgets/base",
            "_model_module_version": "1.5.0",
            "_view_count": null,
            "_view_module_version": "1.2.0",
            "_model_module": "@jupyter-widgets/controls"
          }
        },
        "240b580080e14f8fa0d1beb8fb5d5673": {
          "model_module": "@jupyter-widgets/base",
          "model_name": "LayoutModel",
          "model_module_version": "1.2.0",
          "state": {
            "_view_name": "LayoutView",
            "grid_template_rows": null,
            "right": null,
            "justify_content": null,
            "_view_module": "@jupyter-widgets/base",
            "overflow": null,
            "_model_module_version": "1.2.0",
            "_view_count": null,
            "flex_flow": null,
            "width": null,
            "min_width": null,
            "border": null,
            "align_items": null,
            "bottom": null,
            "_model_module": "@jupyter-widgets/base",
            "top": null,
            "grid_column": null,
            "overflow_y": null,
            "overflow_x": null,
            "grid_auto_flow": null,
            "grid_area": null,
            "grid_template_columns": null,
            "flex": null,
            "_model_name": "LayoutModel",
            "justify_items": null,
            "grid_row": null,
            "max_height": null,
            "align_content": null,
            "visibility": null,
            "align_self": null,
            "height": null,
            "min_height": null,
            "padding": null,
            "grid_auto_rows": null,
            "grid_gap": null,
            "max_width": null,
            "order": null,
            "_view_module_version": "1.2.0",
            "grid_template_areas": null,
            "object_position": null,
            "object_fit": null,
            "grid_auto_columns": null,
            "margin": null,
            "display": null,
            "left": null
          }
        },
        "159e187fe57d49b7976e0c9b992e330b": {
          "model_module": "@jupyter-widgets/controls",
          "model_name": "ProgressStyleModel",
          "model_module_version": "1.5.0",
          "state": {
            "_view_name": "StyleView",
            "_model_name": "ProgressStyleModel",
            "description_width": "",
            "_view_module": "@jupyter-widgets/base",
            "_model_module_version": "1.5.0",
            "_view_count": null,
            "_view_module_version": "1.2.0",
            "bar_color": null,
            "_model_module": "@jupyter-widgets/controls"
          }
        },
        "885bf670c774498ca66b5d32455daa8f": {
          "model_module": "@jupyter-widgets/base",
          "model_name": "LayoutModel",
          "model_module_version": "1.2.0",
          "state": {
            "_view_name": "LayoutView",
            "grid_template_rows": null,
            "right": null,
            "justify_content": null,
            "_view_module": "@jupyter-widgets/base",
            "overflow": null,
            "_model_module_version": "1.2.0",
            "_view_count": null,
            "flex_flow": null,
            "width": null,
            "min_width": null,
            "border": null,
            "align_items": null,
            "bottom": null,
            "_model_module": "@jupyter-widgets/base",
            "top": null,
            "grid_column": null,
            "overflow_y": null,
            "overflow_x": null,
            "grid_auto_flow": null,
            "grid_area": null,
            "grid_template_columns": null,
            "flex": null,
            "_model_name": "LayoutModel",
            "justify_items": null,
            "grid_row": null,
            "max_height": null,
            "align_content": null,
            "visibility": null,
            "align_self": null,
            "height": null,
            "min_height": null,
            "padding": null,
            "grid_auto_rows": null,
            "grid_gap": null,
            "max_width": null,
            "order": null,
            "_view_module_version": "1.2.0",
            "grid_template_areas": null,
            "object_position": null,
            "object_fit": null,
            "grid_auto_columns": null,
            "margin": null,
            "display": null,
            "left": null
          }
        },
        "cfd84c37baf84863a7e00fdc262ceab1": {
          "model_module": "@jupyter-widgets/controls",
          "model_name": "DescriptionStyleModel",
          "model_module_version": "1.5.0",
          "state": {
            "_view_name": "StyleView",
            "_model_name": "DescriptionStyleModel",
            "description_width": "",
            "_view_module": "@jupyter-widgets/base",
            "_model_module_version": "1.5.0",
            "_view_count": null,
            "_view_module_version": "1.2.0",
            "_model_module": "@jupyter-widgets/controls"
          }
        },
        "f6e1393810dd4307b75efb9822d02b1c": {
          "model_module": "@jupyter-widgets/base",
          "model_name": "LayoutModel",
          "model_module_version": "1.2.0",
          "state": {
            "_view_name": "LayoutView",
            "grid_template_rows": null,
            "right": null,
            "justify_content": null,
            "_view_module": "@jupyter-widgets/base",
            "overflow": null,
            "_model_module_version": "1.2.0",
            "_view_count": null,
            "flex_flow": null,
            "width": null,
            "min_width": null,
            "border": null,
            "align_items": null,
            "bottom": null,
            "_model_module": "@jupyter-widgets/base",
            "top": null,
            "grid_column": null,
            "overflow_y": null,
            "overflow_x": null,
            "grid_auto_flow": null,
            "grid_area": null,
            "grid_template_columns": null,
            "flex": null,
            "_model_name": "LayoutModel",
            "justify_items": null,
            "grid_row": null,
            "max_height": null,
            "align_content": null,
            "visibility": null,
            "align_self": null,
            "height": null,
            "min_height": null,
            "padding": null,
            "grid_auto_rows": null,
            "grid_gap": null,
            "max_width": null,
            "order": null,
            "_view_module_version": "1.2.0",
            "grid_template_areas": null,
            "object_position": null,
            "object_fit": null,
            "grid_auto_columns": null,
            "margin": null,
            "display": null,
            "left": null
          }
        },
        "6902349aa5f7486a8d37d25d373569a1": {
          "model_module": "@jupyter-widgets/controls",
          "model_name": "HBoxModel",
          "model_module_version": "1.5.0",
          "state": {
            "_view_name": "HBoxView",
            "_dom_classes": [],
            "_model_name": "HBoxModel",
            "_view_module": "@jupyter-widgets/controls",
            "_model_module_version": "1.5.0",
            "_view_count": null,
            "_view_module_version": "1.5.0",
            "box_style": "",
            "layout": "IPY_MODEL_7676d49f0e124f469122ea707c0c4086",
            "_model_module": "@jupyter-widgets/controls",
            "children": [
              "IPY_MODEL_202a1381fdb744b29a0cf9a7a3609060",
              "IPY_MODEL_02ce428f285c4eb39769102afc29eea9",
              "IPY_MODEL_c3eb72fbdc4e4d8980d094b15c0ddbb0"
            ]
          }
        },
        "7676d49f0e124f469122ea707c0c4086": {
          "model_module": "@jupyter-widgets/base",
          "model_name": "LayoutModel",
          "model_module_version": "1.2.0",
          "state": {
            "_view_name": "LayoutView",
            "grid_template_rows": null,
            "right": null,
            "justify_content": null,
            "_view_module": "@jupyter-widgets/base",
            "overflow": null,
            "_model_module_version": "1.2.0",
            "_view_count": null,
            "flex_flow": null,
            "width": null,
            "min_width": null,
            "border": null,
            "align_items": null,
            "bottom": null,
            "_model_module": "@jupyter-widgets/base",
            "top": null,
            "grid_column": null,
            "overflow_y": null,
            "overflow_x": null,
            "grid_auto_flow": null,
            "grid_area": null,
            "grid_template_columns": null,
            "flex": null,
            "_model_name": "LayoutModel",
            "justify_items": null,
            "grid_row": null,
            "max_height": null,
            "align_content": null,
            "visibility": null,
            "align_self": null,
            "height": null,
            "min_height": null,
            "padding": null,
            "grid_auto_rows": null,
            "grid_gap": null,
            "max_width": null,
            "order": null,
            "_view_module_version": "1.2.0",
            "grid_template_areas": null,
            "object_position": null,
            "object_fit": null,
            "grid_auto_columns": null,
            "margin": null,
            "display": null,
            "left": null
          }
        },
        "202a1381fdb744b29a0cf9a7a3609060": {
          "model_module": "@jupyter-widgets/controls",
          "model_name": "HTMLModel",
          "model_module_version": "1.5.0",
          "state": {
            "_view_name": "HTMLView",
            "style": "IPY_MODEL_b7adf3af71c44312917c57b6bbd382eb",
            "_dom_classes": [],
            "description": "",
            "_model_name": "HTMLModel",
            "placeholder": "​",
            "_view_module": "@jupyter-widgets/controls",
            "_model_module_version": "1.5.0",
            "value": "Downloading: 100%",
            "_view_count": null,
            "_view_module_version": "1.5.0",
            "description_tooltip": null,
            "_model_module": "@jupyter-widgets/controls",
            "layout": "IPY_MODEL_18928fee4c724a2c840b5cd77016302e"
          }
        },
        "02ce428f285c4eb39769102afc29eea9": {
          "model_module": "@jupyter-widgets/controls",
          "model_name": "FloatProgressModel",
          "model_module_version": "1.5.0",
          "state": {
            "_view_name": "ProgressView",
            "style": "IPY_MODEL_d0b7be5bfa4444b5920c0ca4b031a579",
            "_dom_classes": [],
            "description": "",
            "_model_name": "FloatProgressModel",
            "bar_style": "success",
            "max": 433422856,
            "_view_module": "@jupyter-widgets/controls",
            "_model_module_version": "1.5.0",
            "value": 433422856,
            "_view_count": null,
            "_view_module_version": "1.5.0",
            "orientation": "horizontal",
            "min": 0,
            "description_tooltip": null,
            "_model_module": "@jupyter-widgets/controls",
            "layout": "IPY_MODEL_2caa09f106224aeebd611862d7a91b91"
          }
        },
        "c3eb72fbdc4e4d8980d094b15c0ddbb0": {
          "model_module": "@jupyter-widgets/controls",
          "model_name": "HTMLModel",
          "model_module_version": "1.5.0",
          "state": {
            "_view_name": "HTMLView",
            "style": "IPY_MODEL_64e4d22c5ed14556a38a15bbded24f8f",
            "_dom_classes": [],
            "description": "",
            "_model_name": "HTMLModel",
            "placeholder": "​",
            "_view_module": "@jupyter-widgets/controls",
            "_model_module_version": "1.5.0",
            "value": " 413M/413M [00:10&lt;00:00, 40.5MB/s]",
            "_view_count": null,
            "_view_module_version": "1.5.0",
            "description_tooltip": null,
            "_model_module": "@jupyter-widgets/controls",
            "layout": "IPY_MODEL_945bc80296854fccb60294358c231261"
          }
        },
        "b7adf3af71c44312917c57b6bbd382eb": {
          "model_module": "@jupyter-widgets/controls",
          "model_name": "DescriptionStyleModel",
          "model_module_version": "1.5.0",
          "state": {
            "_view_name": "StyleView",
            "_model_name": "DescriptionStyleModel",
            "description_width": "",
            "_view_module": "@jupyter-widgets/base",
            "_model_module_version": "1.5.0",
            "_view_count": null,
            "_view_module_version": "1.2.0",
            "_model_module": "@jupyter-widgets/controls"
          }
        },
        "18928fee4c724a2c840b5cd77016302e": {
          "model_module": "@jupyter-widgets/base",
          "model_name": "LayoutModel",
          "model_module_version": "1.2.0",
          "state": {
            "_view_name": "LayoutView",
            "grid_template_rows": null,
            "right": null,
            "justify_content": null,
            "_view_module": "@jupyter-widgets/base",
            "overflow": null,
            "_model_module_version": "1.2.0",
            "_view_count": null,
            "flex_flow": null,
            "width": null,
            "min_width": null,
            "border": null,
            "align_items": null,
            "bottom": null,
            "_model_module": "@jupyter-widgets/base",
            "top": null,
            "grid_column": null,
            "overflow_y": null,
            "overflow_x": null,
            "grid_auto_flow": null,
            "grid_area": null,
            "grid_template_columns": null,
            "flex": null,
            "_model_name": "LayoutModel",
            "justify_items": null,
            "grid_row": null,
            "max_height": null,
            "align_content": null,
            "visibility": null,
            "align_self": null,
            "height": null,
            "min_height": null,
            "padding": null,
            "grid_auto_rows": null,
            "grid_gap": null,
            "max_width": null,
            "order": null,
            "_view_module_version": "1.2.0",
            "grid_template_areas": null,
            "object_position": null,
            "object_fit": null,
            "grid_auto_columns": null,
            "margin": null,
            "display": null,
            "left": null
          }
        },
        "d0b7be5bfa4444b5920c0ca4b031a579": {
          "model_module": "@jupyter-widgets/controls",
          "model_name": "ProgressStyleModel",
          "model_module_version": "1.5.0",
          "state": {
            "_view_name": "StyleView",
            "_model_name": "ProgressStyleModel",
            "description_width": "",
            "_view_module": "@jupyter-widgets/base",
            "_model_module_version": "1.5.0",
            "_view_count": null,
            "_view_module_version": "1.2.0",
            "bar_color": null,
            "_model_module": "@jupyter-widgets/controls"
          }
        },
        "2caa09f106224aeebd611862d7a91b91": {
          "model_module": "@jupyter-widgets/base",
          "model_name": "LayoutModel",
          "model_module_version": "1.2.0",
          "state": {
            "_view_name": "LayoutView",
            "grid_template_rows": null,
            "right": null,
            "justify_content": null,
            "_view_module": "@jupyter-widgets/base",
            "overflow": null,
            "_model_module_version": "1.2.0",
            "_view_count": null,
            "flex_flow": null,
            "width": null,
            "min_width": null,
            "border": null,
            "align_items": null,
            "bottom": null,
            "_model_module": "@jupyter-widgets/base",
            "top": null,
            "grid_column": null,
            "overflow_y": null,
            "overflow_x": null,
            "grid_auto_flow": null,
            "grid_area": null,
            "grid_template_columns": null,
            "flex": null,
            "_model_name": "LayoutModel",
            "justify_items": null,
            "grid_row": null,
            "max_height": null,
            "align_content": null,
            "visibility": null,
            "align_self": null,
            "height": null,
            "min_height": null,
            "padding": null,
            "grid_auto_rows": null,
            "grid_gap": null,
            "max_width": null,
            "order": null,
            "_view_module_version": "1.2.0",
            "grid_template_areas": null,
            "object_position": null,
            "object_fit": null,
            "grid_auto_columns": null,
            "margin": null,
            "display": null,
            "left": null
          }
        },
        "64e4d22c5ed14556a38a15bbded24f8f": {
          "model_module": "@jupyter-widgets/controls",
          "model_name": "DescriptionStyleModel",
          "model_module_version": "1.5.0",
          "state": {
            "_view_name": "StyleView",
            "_model_name": "DescriptionStyleModel",
            "description_width": "",
            "_view_module": "@jupyter-widgets/base",
            "_model_module_version": "1.5.0",
            "_view_count": null,
            "_view_module_version": "1.2.0",
            "_model_module": "@jupyter-widgets/controls"
          }
        },
        "945bc80296854fccb60294358c231261": {
          "model_module": "@jupyter-widgets/base",
          "model_name": "LayoutModel",
          "model_module_version": "1.2.0",
          "state": {
            "_view_name": "LayoutView",
            "grid_template_rows": null,
            "right": null,
            "justify_content": null,
            "_view_module": "@jupyter-widgets/base",
            "overflow": null,
            "_model_module_version": "1.2.0",
            "_view_count": null,
            "flex_flow": null,
            "width": null,
            "min_width": null,
            "border": null,
            "align_items": null,
            "bottom": null,
            "_model_module": "@jupyter-widgets/base",
            "top": null,
            "grid_column": null,
            "overflow_y": null,
            "overflow_x": null,
            "grid_auto_flow": null,
            "grid_area": null,
            "grid_template_columns": null,
            "flex": null,
            "_model_name": "LayoutModel",
            "justify_items": null,
            "grid_row": null,
            "max_height": null,
            "align_content": null,
            "visibility": null,
            "align_self": null,
            "height": null,
            "min_height": null,
            "padding": null,
            "grid_auto_rows": null,
            "grid_gap": null,
            "max_width": null,
            "order": null,
            "_view_module_version": "1.2.0",
            "grid_template_areas": null,
            "object_position": null,
            "object_fit": null,
            "grid_auto_columns": null,
            "margin": null,
            "display": null,
            "left": null
          }
        }
      }
    }
  },
  "cells": [
    {
      "cell_type": "markdown",
      "metadata": {
        "id": "_hkUF5jx2Xxs"
      },
      "source": [
        "# Fast inference for Hugging Face tasks models on CPU (for example: QA model)"
      ]
    },
    {
      "cell_type": "markdown",
      "metadata": {
        "id": "mDmIlOqh3Cyh"
      },
      "source": [
        "- **Author**: [Pierre Guillou](https://www.linkedin.com/in/pierreguillou/)\n",
        "- **Version & Date** : v1 (10/22/2021)\n",
        "- **Blog post**: [NLP nas empresas | Técnicas para acelerar modelos de Deep Learning para inferência em produção](https://medium.com/@pierre_guillou/nlp-nas-empresas-t%C3%A9cnicas-para-acelerar-modelos-de-deep-learning-para-infer%C3%AAncia-em-produ%C3%A7%C3%A3o-884acbf49f20)\n",
        "- **Other notebook** : [fast_inference_transformers_on_GPU.ipynb](https://github.com/piegu/language-models/blob/master/fast_inference_transformers_on_GPU.ipynb)\n"
      ]
    },
    {
      "cell_type": "markdown",
      "metadata": {
        "id": "FREHU6cIboN8"
      },
      "source": [
        "## Notebook overview"
      ]
    },
    {
      "cell_type": "markdown",
      "metadata": {
        "id": "vre_6Zjfbq_s"
      },
      "source": [
        "### Objective\n",
        "The objective of this notebook is to help those who want to **accelerate inference time on CPU for tasks models of Hugging Face** (NER, QA, Classification...).\n",
        "\n",
        "### Method for inference\n",
        "\n",
        "source: https://discuss.pytorch.org/t/model-eval-vs-with-torch-no-grad/19615/2\n",
        "\n",
        "- `model.eval()` will notify all your layers that you are in eval mode, that way, batchnorm or dropout layers will work in eval mode instead of training mode.\n",
        "- `torch.no_grad()` impacts the autograd engine and deactivate it. It will reduce memory usage and speed up computations but you won’t be able to backprop (which you don’t want in an eval script).\n",
        "\n",
        "### References\n",
        "- post blog from HF and Microsoft: [Accelerate your NLP pipelines using Hugging Face Transformers and ONNX Runtime](https://medium.com/microsoftazure/accelerate-your-nlp-pipelines-using-hugging-face-transformers-and-onnx-runtime-2443578f4333) (19/05/2020)"
      ]
    },
    {
      "cell_type": "markdown",
      "metadata": {
        "id": "DNmi0bXikgM3"
      },
      "source": [
        "## System overview"
      ]
    },
    {
      "cell_type": "code",
      "metadata": {
        "colab": {
          "base_uri": "https://localhost:8080/",
          "height": 35
        },
        "id": "ov7T5Sk_pL_B",
        "outputId": "c985ae05-2def-4871-a5dd-08b93686d938"
      },
      "source": [
        "import platform\n",
        "platform.platform()"
      ],
      "execution_count": 1,
      "outputs": [
        {
          "output_type": "execute_result",
          "data": {
            "application/vnd.google.colaboratory.intrinsic+json": {
              "type": "string"
            },
            "text/plain": [
              "'Linux-5.4.104+-x86_64-with-Ubuntu-18.04-bionic'"
            ]
          },
          "metadata": {},
          "execution_count": 1
        }
      ]
    },
    {
      "cell_type": "markdown",
      "metadata": {
        "id": "VvdQxXRHiXHL"
      },
      "source": [
        "### CPU"
      ]
    },
    {
      "cell_type": "code",
      "metadata": {
        "id": "3ViMgMkxklj7"
      },
      "source": [
        "from psutil import *"
      ],
      "execution_count": 2,
      "outputs": []
    },
    {
      "cell_type": "code",
      "metadata": {
        "colab": {
          "base_uri": "https://localhost:8080/"
        },
        "id": "dBjiK-_tkntn",
        "outputId": "5a406a1e-80d4-4298-f2a6-f6ec15cc54b1"
      },
      "source": [
        "cpu_count(),cpu_stats()"
      ],
      "execution_count": 3,
      "outputs": [
        {
          "output_type": "execute_result",
          "data": {
            "text/plain": [
              "(2,\n",
              " scpustats(ctx_switches=695139, interrupts=346474, soft_interrupts=359163, syscalls=0))"
            ]
          },
          "metadata": {},
          "execution_count": 3
        }
      ]
    },
    {
      "cell_type": "code",
      "metadata": {
        "colab": {
          "base_uri": "https://localhost:8080/"
        },
        "id": "SnzYmVM4kuwl",
        "outputId": "f70a9c34-1d1c-4476-c1ea-8e51bcbb8e46"
      },
      "source": [
        "!cat /proc/cpuinfo"
      ],
      "execution_count": 4,
      "outputs": [
        {
          "output_type": "stream",
          "name": "stdout",
          "text": [
            "processor\t: 0\n",
            "vendor_id\t: GenuineIntel\n",
            "cpu family\t: 6\n",
            "model\t\t: 79\n",
            "model name\t: Intel(R) Xeon(R) CPU @ 2.20GHz\n",
            "stepping\t: 0\n",
            "microcode\t: 0x1\n",
            "cpu MHz\t\t: 2199.998\n",
            "cache size\t: 56320 KB\n",
            "physical id\t: 0\n",
            "siblings\t: 2\n",
            "core id\t\t: 0\n",
            "cpu cores\t: 1\n",
            "apicid\t\t: 0\n",
            "initial apicid\t: 0\n",
            "fpu\t\t: yes\n",
            "fpu_exception\t: yes\n",
            "cpuid level\t: 13\n",
            "wp\t\t: yes\n",
            "flags\t\t: fpu vme de pse tsc msr pae mce cx8 apic sep mtrr pge mca cmov pat pse36 clflush mmx fxsr sse sse2 ss ht syscall nx pdpe1gb rdtscp lm constant_tsc rep_good nopl xtopology nonstop_tsc cpuid tsc_known_freq pni pclmulqdq ssse3 fma cx16 pcid sse4_1 sse4_2 x2apic movbe popcnt aes xsave avx f16c rdrand hypervisor lahf_lm abm 3dnowprefetch invpcid_single ssbd ibrs ibpb stibp fsgsbase tsc_adjust bmi1 hle avx2 smep bmi2 erms invpcid rtm rdseed adx smap xsaveopt arat md_clear arch_capabilities\n",
            "bugs\t\t: cpu_meltdown spectre_v1 spectre_v2 spec_store_bypass l1tf mds swapgs taa\n",
            "bogomips\t: 4399.99\n",
            "clflush size\t: 64\n",
            "cache_alignment\t: 64\n",
            "address sizes\t: 46 bits physical, 48 bits virtual\n",
            "power management:\n",
            "\n",
            "processor\t: 1\n",
            "vendor_id\t: GenuineIntel\n",
            "cpu family\t: 6\n",
            "model\t\t: 79\n",
            "model name\t: Intel(R) Xeon(R) CPU @ 2.20GHz\n",
            "stepping\t: 0\n",
            "microcode\t: 0x1\n",
            "cpu MHz\t\t: 2199.998\n",
            "cache size\t: 56320 KB\n",
            "physical id\t: 0\n",
            "siblings\t: 2\n",
            "core id\t\t: 0\n",
            "cpu cores\t: 1\n",
            "apicid\t\t: 1\n",
            "initial apicid\t: 1\n",
            "fpu\t\t: yes\n",
            "fpu_exception\t: yes\n",
            "cpuid level\t: 13\n",
            "wp\t\t: yes\n",
            "flags\t\t: fpu vme de pse tsc msr pae mce cx8 apic sep mtrr pge mca cmov pat pse36 clflush mmx fxsr sse sse2 ss ht syscall nx pdpe1gb rdtscp lm constant_tsc rep_good nopl xtopology nonstop_tsc cpuid tsc_known_freq pni pclmulqdq ssse3 fma cx16 pcid sse4_1 sse4_2 x2apic movbe popcnt aes xsave avx f16c rdrand hypervisor lahf_lm abm 3dnowprefetch invpcid_single ssbd ibrs ibpb stibp fsgsbase tsc_adjust bmi1 hle avx2 smep bmi2 erms invpcid rtm rdseed adx smap xsaveopt arat md_clear arch_capabilities\n",
            "bugs\t\t: cpu_meltdown spectre_v1 spectre_v2 spec_store_bypass l1tf mds swapgs taa\n",
            "bogomips\t: 4399.99\n",
            "clflush size\t: 64\n",
            "cache_alignment\t: 64\n",
            "address sizes\t: 46 bits physical, 48 bits virtual\n",
            "power management:\n",
            "\n"
          ]
        }
      ]
    },
    {
      "cell_type": "code",
      "metadata": {
        "colab": {
          "base_uri": "https://localhost:8080/"
        },
        "id": "iU5N7WYs2Y9b",
        "outputId": "e272c4b5-4352-4990-a86d-9e4cce9c29a5"
      },
      "source": [
        "!df -h"
      ],
      "execution_count": 5,
      "outputs": [
        {
          "output_type": "stream",
          "name": "stdout",
          "text": [
            "Filesystem      Size  Used Avail Use% Mounted on\n",
            "overlay         108G   47G   62G  43% /\n",
            "tmpfs            64M     0   64M   0% /dev\n",
            "tmpfs           6.4G     0  6.4G   0% /sys/fs/cgroup\n",
            "shm             5.9G     0  5.9G   0% /dev/shm\n",
            "/dev/root       2.0G  1.2G  821M  59% /sbin/docker-init\n",
            "tmpfs           6.4G   28K  6.4G   1% /var/colab\n",
            "/dev/sda1        81G   51G   31G  63% /etc/hosts\n",
            "tmpfs           6.4G     0  6.4G   0% /proc/acpi\n",
            "tmpfs           6.4G     0  6.4G   0% /proc/scsi\n",
            "tmpfs           6.4G     0  6.4G   0% /sys/firmware\n"
          ]
        }
      ]
    },
    {
      "cell_type": "code",
      "metadata": {
        "colab": {
          "base_uri": "https://localhost:8080/"
        },
        "id": "r7DSRg45kzqp",
        "outputId": "28c21be1-716f-49f3-e93b-bf0e5e604b41"
      },
      "source": [
        "virtual_memory()"
      ],
      "execution_count": 6,
      "outputs": [
        {
          "output_type": "execute_result",
          "data": {
            "text/plain": [
              "svmem(total=13622198272, available=12802056192, percent=6.0, used=543846400, free=10809655296, active=1039499264, inactive=1529974784, buffers=125227008, cached=2143469568, shared=1171456, slab=192012288)"
            ]
          },
          "metadata": {},
          "execution_count": 6
        }
      ]
    },
    {
      "cell_type": "markdown",
      "metadata": {
        "id": "xOuBqEynERFG"
      },
      "source": [
        "## Installation"
      ]
    },
    {
      "cell_type": "code",
      "metadata": {
        "id": "P_sWC1bkETZw"
      },
      "source": [
        "%%capture\n",
        "!pip install transformers"
      ],
      "execution_count": 7,
      "outputs": []
    },
    {
      "cell_type": "code",
      "metadata": {
        "colab": {
          "base_uri": "https://localhost:8080/"
        },
        "id": "OQxJyew3GOEg",
        "outputId": "aa15c843-b5a4-45dd-f883-14d329f3e170"
      },
      "source": [
        "import transformers, torch, numpy as np\n",
        "\n",
        "print(\"transformers:\",transformers.__version__)\n",
        "print(\"torch:\",torch.__version__)\n",
        "print(\"numpy:\",np.__version__)"
      ],
      "execution_count": 8,
      "outputs": [
        {
          "output_type": "stream",
          "name": "stdout",
          "text": [
            "transformers: 4.11.3\n",
            "torch: 1.9.0+cu111\n",
            "numpy: 1.19.5\n"
          ]
        }
      ]
    },
    {
      "cell_type": "code",
      "metadata": {
        "id": "OFZpEH_scifg"
      },
      "source": [
        "from time import perf_counter\n",
        "def timer(f,*args):   \n",
        "    start = perf_counter()\n",
        "    f(*args)\n",
        "    return (1000 * (perf_counter() - start))"
      ],
      "execution_count": 9,
      "outputs": []
    },
    {
      "cell_type": "markdown",
      "metadata": {
        "id": "U2VWWKpbR5mL"
      },
      "source": [
        "## QA model"
      ]
    },
    {
      "cell_type": "markdown",
      "metadata": {
        "id": "vDfR4S0DcNoi"
      },
      "source": [
        "Model at https://huggingface.co/pierreguillou/bert-base-cased-squad-v1.1-portuguese"
      ]
    },
    {
      "cell_type": "code",
      "metadata": {
        "id": "cBlOI89tR8Oq"
      },
      "source": [
        "model_checkpoint = \"pierreguillou/bert-base-cased-squad-v1.1-portuguese\"\n",
        "# model_checkpoint = \"pierreguillou/bert-large-cased-squad-v1.1-portuguese\""
      ],
      "execution_count": 10,
      "outputs": []
    },
    {
      "cell_type": "code",
      "metadata": {
        "id": "bclIDEVOSm-M"
      },
      "source": [
        "context = r\"\"\"\n",
        "A pandemia de COVID-19, também conhecida como pandemia de coronavírus, é uma pandemia em curso de COVID-19, \n",
        "uma doença respiratória aguda causada pelo coronavírus da síndrome respiratória aguda grave 2 (SARS-CoV-2). \n",
        "A doença foi identificada pela primeira vez em Wuhan, na província de Hubei, República Popular da China, \n",
        "em 1 de dezembro de 2019, mas o primeiro caso foi reportado em 31 de dezembro do mesmo ano. \n",
        "Acredita-se que o vírus tenha uma origem zoonótica, porque os primeiros casos confirmados \n",
        "tinham principalmente ligações ao Mercado Atacadista de Frutos do Mar de Huanan, que também vendia animais vivos. \n",
        "Em 11 de março de 2020, a Organização Mundial da Saúde declarou o surto uma pandemia. Até 8 de fevereiro de 2021, \n",
        "pelo menos 105 743 102 casos da doença foram confirmados em pelo menos 191 países e territórios, \n",
        "com cerca de 2 308 943 mortes e 58 851 440 pessoas curadas.\n",
        "\"\"\"\n",
        "\n",
        "question = \"Quando começou a pandemia de Covid-19 no mundo?\""
      ],
      "execution_count": 11,
      "outputs": []
    },
    {
      "cell_type": "markdown",
      "metadata": {
        "id": "QeiLPvAteK0q"
      },
      "source": [
        "## 1. Check the model"
      ]
    },
    {
      "cell_type": "markdown",
      "metadata": {
        "id": "itx8-vxHgrgI"
      },
      "source": [
        "Before evaluating its inference time, let's check that our QA model is working well."
      ]
    },
    {
      "cell_type": "markdown",
      "metadata": {
        "id": "dUixO7_ueq38"
      },
      "source": [
        "#### 1.1 Without pipeline"
      ]
    },
    {
      "cell_type": "code",
      "metadata": {
        "colab": {
          "base_uri": "https://localhost:8080/",
          "height": 177,
          "referenced_widgets": [
            "485333784c724dcfb2b5a629d5b5df1d",
            "daf73dbf3e4d48d98d48395d8fc1282e",
            "03109d842c74499382bc8c3c8234cb3d",
            "4832e8ea4d234bc288fa768a64da7b07",
            "a82e6a3e16514901a11b2ad390dc8aec",
            "a9832e3f455446c69d4a5ab5e370de24",
            "3a2fe1d7aec647b7bc59114045435a81",
            "9e9b4b5f047742e6be295e09dd689b22",
            "5b07fa553e0b4f4287e08a777c48b9b8",
            "3f96899ef3cf411ca85c32609f8b62c9",
            "1d3ddc8c772943e08db555d7149bb673",
            "87c116214fbb4f188e8a8faa4a741207",
            "f35d13e8523b44889a31ba1e53c68fa8",
            "e6ab3d39db2c4b29a672173f05ad6d26",
            "22ad65c969aa403283388ac972360187",
            "d8b3c21741cb4bf690f6e718b4cc6f01",
            "4fc621bcb1f64f8e935997af954e7082",
            "5dfe88fdecea45f4847230e69303e0e0",
            "dcaa5c449c6842c49a56bfb1d73fe8b9",
            "320c7a8b18064524a97b937a1aeb02c3",
            "0dd496378d1c4506b779a5a3ea531c43",
            "b9a6ae35a2d8450ead8a3fa2deecfe48",
            "a641e9c5693e46298c3b9d2e6c3f4c38",
            "6cf56d1eef0945e2a354470bf9153e85",
            "a3eade920d7b4a8ba53c03c84093897d",
            "7d02cfd8c8824f2d92525b5505150f93",
            "b018c6a0e3ed40ce9210ad80deed1ae9",
            "de1b674460f841468cfe002415927347",
            "41d2acf608a746a386a4afe6478f395e",
            "1838d80c3f3e434291124531d308d200",
            "31486fd26e074c7999ae603d5e527a64",
            "1c340ae116394401b57da2934f82af10",
            "2c955331f6c34eb380a2c7a9753b2ff4",
            "a91211914d054738992f45436891234d",
            "bc1cd1a174b4420b960c800fd8ef632c",
            "6aa4216e3b8f416fad608846bb6c01d1",
            "b72a598f5e8646708b20be7d461b2d6e",
            "d58528d6f8434da8a066a0e5ef359090",
            "57faa6d833494ea0af844c1303bc02e8",
            "240b580080e14f8fa0d1beb8fb5d5673",
            "159e187fe57d49b7976e0c9b992e330b",
            "885bf670c774498ca66b5d32455daa8f",
            "cfd84c37baf84863a7e00fdc262ceab1",
            "f6e1393810dd4307b75efb9822d02b1c",
            "6902349aa5f7486a8d37d25d373569a1",
            "7676d49f0e124f469122ea707c0c4086",
            "202a1381fdb744b29a0cf9a7a3609060",
            "02ce428f285c4eb39769102afc29eea9",
            "c3eb72fbdc4e4d8980d094b15c0ddbb0",
            "b7adf3af71c44312917c57b6bbd382eb",
            "18928fee4c724a2c840b5cd77016302e",
            "d0b7be5bfa4444b5920c0ca4b031a579",
            "2caa09f106224aeebd611862d7a91b91",
            "64e4d22c5ed14556a38a15bbded24f8f",
            "945bc80296854fccb60294358c231261"
          ]
        },
        "id": "v0Ewv1TleWqi",
        "outputId": "03642c39-f8c6-412a-b3fe-bbd01b0cb4cd"
      },
      "source": [
        "from transformers import AutoTokenizer, AutoModelForQuestionAnswering\n",
        "\n",
        "tokenizer = AutoTokenizer.from_pretrained(model_checkpoint, use_fast=True)\n",
        "model = AutoModelForQuestionAnswering.from_pretrained(model_checkpoint)\n",
        "model.eval();"
      ],
      "execution_count": 12,
      "outputs": [
        {
          "output_type": "display_data",
          "data": {
            "application/vnd.jupyter.widget-view+json": {
              "model_id": "485333784c724dcfb2b5a629d5b5df1d",
              "version_minor": 0,
              "version_major": 2
            },
            "text/plain": [
              "Downloading:   0%|          | 0.00/494 [00:00<?, ?B/s]"
            ]
          },
          "metadata": {}
        },
        {
          "output_type": "display_data",
          "data": {
            "application/vnd.jupyter.widget-view+json": {
              "model_id": "87c116214fbb4f188e8a8faa4a741207",
              "version_minor": 0,
              "version_major": 2
            },
            "text/plain": [
              "Downloading:   0%|          | 0.00/862 [00:00<?, ?B/s]"
            ]
          },
          "metadata": {}
        },
        {
          "output_type": "display_data",
          "data": {
            "application/vnd.jupyter.widget-view+json": {
              "model_id": "a641e9c5693e46298c3b9d2e6c3f4c38",
              "version_minor": 0,
              "version_major": 2
            },
            "text/plain": [
              "Downloading:   0%|          | 0.00/205k [00:00<?, ?B/s]"
            ]
          },
          "metadata": {}
        },
        {
          "output_type": "display_data",
          "data": {
            "application/vnd.jupyter.widget-view+json": {
              "model_id": "a91211914d054738992f45436891234d",
              "version_minor": 0,
              "version_major": 2
            },
            "text/plain": [
              "Downloading:   0%|          | 0.00/112 [00:00<?, ?B/s]"
            ]
          },
          "metadata": {}
        },
        {
          "output_type": "display_data",
          "data": {
            "application/vnd.jupyter.widget-view+json": {
              "model_id": "6902349aa5f7486a8d37d25d373569a1",
              "version_minor": 0,
              "version_major": 2
            },
            "text/plain": [
              "Downloading:   0%|          | 0.00/413M [00:00<?, ?B/s]"
            ]
          },
          "metadata": {}
        }
      ]
    },
    {
      "cell_type": "code",
      "metadata": {
        "colab": {
          "base_uri": "https://localhost:8080/"
        },
        "id": "V3jrcdqmeWqj",
        "outputId": "2d99a255-65fc-4482-d06e-32a6c72dea49"
      },
      "source": [
        "# code source: https://huggingface.co/transformers/master/task_summary.html#extractive-question-answering\n",
        "\n",
        "# tokenize inputs\n",
        "inputs = tokenizer(question, context, add_special_tokens=True, return_tensors=\"pt\")\n",
        "\n",
        "# get outputs\n",
        "outputs = model(**inputs)\n",
        "answer_start_scores = outputs.start_logits\n",
        "answer_end_scores = outputs.end_logits\n",
        "\n",
        "# Get the most likely beginning of answer with the argmax of the score\n",
        "answer_start = torch.argmax(answer_start_scores)\n",
        "# Get the most likely end of answer with the argmax of the score\n",
        "answer_end = torch.argmax(answer_end_scores) + 1\n",
        "\n",
        "input_ids = inputs[\"input_ids\"].tolist()[0]\n",
        "answer = tokenizer.convert_tokens_to_string(tokenizer.convert_ids_to_tokens(input_ids[answer_start:answer_end]))\n",
        "\n",
        "# print answer\n",
        "print(f\"Question: {question}\")\n",
        "print(f\"Answer: {answer}\")"
      ],
      "execution_count": 13,
      "outputs": [
        {
          "output_type": "stream",
          "name": "stdout",
          "text": [
            "Question: Quando começou a pandemia de Covid-19 no mundo?\n",
            "Answer: 1 de dezembro de 2019\n"
          ]
        }
      ]
    },
    {
      "cell_type": "markdown",
      "metadata": {
        "id": "Wf-o7fLRewoY"
      },
      "source": [
        "That's the right answer!"
      ]
    },
    {
      "cell_type": "markdown",
      "metadata": {
        "id": "XOINhKq2T3Bw"
      },
      "source": [
        "#### 1.2 With pipeline"
      ]
    },
    {
      "cell_type": "markdown",
      "metadata": {
        "id": "DFxfoEGXcoYj"
      },
      "source": [
        "We can use Pipeline, too."
      ]
    },
    {
      "cell_type": "code",
      "metadata": {
        "id": "5srv6sCpSeNt"
      },
      "source": [
        "from transformers import pipeline\n",
        "\n",
        "nlp = pipeline(\"question-answering\", model=model_checkpoint)"
      ],
      "execution_count": 14,
      "outputs": []
    },
    {
      "cell_type": "code",
      "metadata": {
        "colab": {
          "base_uri": "https://localhost:8080/"
        },
        "id": "z0jMdQ92Tt_1",
        "outputId": "59b1f331-1d8a-4923-8c7f-5ede28a18178"
      },
      "source": [
        "# get result\n",
        "result = nlp(question, context)\n",
        "\n",
        "# print answer\n",
        "print(f\"Question: {question}\")\n",
        "print(f\"Answer: {result['answer']} (score: {round(result['score'], 4)})\")"
      ],
      "execution_count": 15,
      "outputs": [
        {
          "output_type": "stream",
          "name": "stdout",
          "text": [
            "Question: Quando começou a pandemia de Covid-19 no mundo?\n",
            "Answer: 1 de dezembro de 2019 (score: 0.713)\n"
          ]
        }
      ]
    },
    {
      "cell_type": "markdown",
      "metadata": {
        "id": "nMjpms2RfQ_9"
      },
      "source": [
        "That's the right answer!"
      ]
    },
    {
      "cell_type": "markdown",
      "metadata": {
        "id": "PRV40jI3PkcM"
      },
      "source": [
        "## 2. Inference time | PyTorch model"
      ]
    },
    {
      "cell_type": "markdown",
      "metadata": {
        "id": "6KLKVAmpfe6v"
      },
      "source": [
        "### 2.1 PyTorch model (without pipeline)"
      ]
    },
    {
      "cell_type": "code",
      "metadata": {
        "id": "sBTdifUAPuZf"
      },
      "source": [
        "from transformers import AutoTokenizer, AutoModelForQuestionAnswering\n",
        "\n",
        "tokenizer = AutoTokenizer.from_pretrained(model_checkpoint, use_fast=True)\n",
        "model = AutoModelForQuestionAnswering.from_pretrained(model_checkpoint)\n",
        "model.eval();"
      ],
      "execution_count": 16,
      "outputs": []
    },
    {
      "cell_type": "markdown",
      "metadata": {
        "id": "HOdhaPFwl1Oe"
      },
      "source": [
        "#### 1. Tokenize the inputs"
      ]
    },
    {
      "cell_type": "code",
      "metadata": {
        "colab": {
          "base_uri": "https://localhost:8080/"
        },
        "id": "K1_5839CDbiD",
        "outputId": "35755af2-40a4-4dbd-8300-6a216cc25196"
      },
      "source": [
        "num=100\n",
        "\n",
        "total = 0\n",
        "for i in range(num):\n",
        "  start = perf_counter()\n",
        "  inputs = tokenizer(question, context, add_special_tokens=True, return_tensors=\"pt\")\n",
        "  diff = perf_counter() - start\n",
        "  total += diff\n",
        "\n",
        "mean_tokenizer = round((total/num)*1000,2)\n",
        "print(f'average time: {mean_tokenizer} ms')"
      ],
      "execution_count": 17,
      "outputs": [
        {
          "output_type": "stream",
          "name": "stdout",
          "text": [
            "average time: 0.73 ms\n"
          ]
        }
      ]
    },
    {
      "cell_type": "markdown",
      "metadata": {
        "id": "9ulHNPdPQjhP"
      },
      "source": [
        "#### 2. Model on CPU"
      ]
    },
    {
      "cell_type": "code",
      "metadata": {
        "colab": {
          "base_uri": "https://localhost:8080/"
        },
        "id": "CDnLS3HhA11U",
        "outputId": "1b75b48f-74d7-40de-f078-a28882dd3175"
      },
      "source": [
        "# put model and inputs to cpu\n",
        "model = model.to('cpu')\n",
        "inputs = inputs.to('cpu')\n",
        "\n",
        "# get mean time\n",
        "with torch.no_grad():\n",
        "  mean_time_cpu = round(np.mean([timer(model,inputs.input_ids,inputs.token_type_ids,inputs.attention_mask) for _ in range(100)]),2)\n",
        "\n",
        "print(f'average time: {mean_time_cpu} ms')"
      ],
      "execution_count": 18,
      "outputs": [
        {
          "output_type": "stream",
          "name": "stdout",
          "text": [
            "average time: 889.07 ms\n"
          ]
        }
      ]
    },
    {
      "cell_type": "markdown",
      "metadata": {
        "id": "S_nPfxys1qHa"
      },
      "source": [
        "Now, we can evaluate the time to get the answer."
      ]
    },
    {
      "cell_type": "code",
      "metadata": {
        "id": "uesjhmxfnBbF"
      },
      "source": [
        "# get outputs\n",
        "with torch.no_grad():\n",
        "  outputs = model(**inputs)"
      ],
      "execution_count": 19,
      "outputs": []
    },
    {
      "cell_type": "code",
      "metadata": {
        "colab": {
          "base_uri": "https://localhost:8080/"
        },
        "id": "eSHZvVABm5Iq",
        "outputId": "6b066544-69a9-4b75-88dc-74cec94112cf"
      },
      "source": [
        "num = 100\n",
        "\n",
        "total = 0\n",
        "for i in range(num):\n",
        "  start = perf_counter()\n",
        "  answer_start_scores = outputs.start_logits\n",
        "  answer_end_scores = outputs.end_logits\n",
        "\n",
        "  # Get the most likely beginning of answer with the argmax of the score\n",
        "  answer_start = torch.argmax(answer_start_scores)\n",
        "  # Get the most likely end of answer with the argmax of the score\n",
        "  answer_end = torch.argmax(answer_end_scores) + 1\n",
        "\n",
        "  input_ids = inputs[\"input_ids\"].tolist()[0]\n",
        "  answer = tokenizer.convert_tokens_to_string(tokenizer.convert_ids_to_tokens(input_ids[answer_start:answer_end]))\n",
        "  diff = perf_counter() - start\n",
        "  total += diff\n",
        "\n",
        "mean_time_cpu_answer = round((total/num)*1000,2)\n",
        "print(f'average time: {mean_time_cpu_answer} ms')"
      ],
      "execution_count": 20,
      "outputs": [
        {
          "output_type": "stream",
          "name": "stdout",
          "text": [
            "average time: 1.01 ms\n"
          ]
        }
      ]
    },
    {
      "cell_type": "markdown",
      "metadata": {
        "id": "E9elF7xIVR7l"
      },
      "source": [
        "Then, we have the total time when the model is on the CPU:"
      ]
    },
    {
      "cell_type": "code",
      "metadata": {
        "colab": {
          "base_uri": "https://localhost:8080/"
        },
        "id": "KiwJwBQEVaOi",
        "outputId": "a203c21a-a42b-46f7-93c3-bc9f868d07f5"
      },
      "source": [
        "total_cpu = round(mean_tokenizer + mean_time_cpu + mean_time_cpu_answer,2)\n",
        "print(f'time: {total_cpu} ms')"
      ],
      "execution_count": 21,
      "outputs": [
        {
          "output_type": "stream",
          "name": "stdout",
          "text": [
            "time: 890.81 ms\n"
          ]
        }
      ]
    },
    {
      "cell_type": "markdown",
      "metadata": {
        "id": "huZuti5kdqmb"
      },
      "source": [
        "### 2.2 PyTorch model (with pipeline)"
      ]
    },
    {
      "cell_type": "markdown",
      "metadata": {
        "id": "PGi0rLL3XGLu"
      },
      "source": [
        "We can use Pipeline, too."
      ]
    },
    {
      "cell_type": "code",
      "metadata": {
        "id": "JUaBkiE7XGME"
      },
      "source": [
        "from transformers import pipeline"
      ],
      "execution_count": 22,
      "outputs": []
    },
    {
      "cell_type": "markdown",
      "metadata": {
        "id": "H5uzUO81W-2P"
      },
      "source": [
        "#### 1. Model on CPU"
      ]
    },
    {
      "cell_type": "markdown",
      "metadata": {
        "id": "8tjLIIq9Y_yH"
      },
      "source": [
        "We have the total time when the model is on the CPU:"
      ]
    },
    {
      "cell_type": "code",
      "metadata": {
        "colab": {
          "base_uri": "https://localhost:8080/"
        },
        "id": "8rTWTujiW-2P",
        "outputId": "8ccd4cc8-6011-450b-f266-04c78e28a926"
      },
      "source": [
        "# put model and inputs to cpu\n",
        "nlp = pipeline(\"question-answering\", model=model_checkpoint, use_fast=True, device=-1)\n",
        "\n",
        "# get mean time\n",
        "with torch.no_grad():\n",
        "  pipeline_mean_time_cpu = round(np.mean([timer(nlp,question,context) for _ in range(100)]),2)\n",
        "\n",
        "print(f'average time: {pipeline_mean_time_cpu} ms')"
      ],
      "execution_count": 23,
      "outputs": [
        {
          "output_type": "stream",
          "name": "stdout",
          "text": [
            "average time: 872.47 ms\n"
          ]
        }
      ]
    },
    {
      "cell_type": "markdown",
      "metadata": {
        "id": "PIozp6wuZxWC"
      },
      "source": [
        "### 2.3 Results with PyTorch"
      ]
    },
    {
      "cell_type": "code",
      "metadata": {
        "colab": {
          "base_uri": "https://localhost:8080/",
          "height": 112
        },
        "id": "q1F3FQUsMLAR",
        "outputId": "d6f46d62-c4fb-4130-bacd-71d0a4912e02"
      },
      "source": [
        "import pandas as pd\n",
        "\n",
        "raw_data = {\n",
        "            'Latency on CPU (ms)': [mean_time_cpu, pipeline_mean_time_cpu],\n",
        "            }\n",
        "\n",
        "df = pd.DataFrame(raw_data,\n",
        "                  index=pd.Index(['Without pipeline', 'With pipeline']),\n",
        "                  columns=pd.Index(['Latency on CPU (ms)']))\n",
        "\n",
        "df"
      ],
      "execution_count": 24,
      "outputs": [
        {
          "output_type": "execute_result",
          "data": {
            "text/html": [
              "<div>\n",
              "<style scoped>\n",
              "    .dataframe tbody tr th:only-of-type {\n",
              "        vertical-align: middle;\n",
              "    }\n",
              "\n",
              "    .dataframe tbody tr th {\n",
              "        vertical-align: top;\n",
              "    }\n",
              "\n",
              "    .dataframe thead th {\n",
              "        text-align: right;\n",
              "    }\n",
              "</style>\n",
              "<table border=\"1\" class=\"dataframe\">\n",
              "  <thead>\n",
              "    <tr style=\"text-align: right;\">\n",
              "      <th></th>\n",
              "      <th>Latency on CPU (ms)</th>\n",
              "    </tr>\n",
              "  </thead>\n",
              "  <tbody>\n",
              "    <tr>\n",
              "      <th>Without pipeline</th>\n",
              "      <td>889.07</td>\n",
              "    </tr>\n",
              "    <tr>\n",
              "      <th>With pipeline</th>\n",
              "      <td>872.47</td>\n",
              "    </tr>\n",
              "  </tbody>\n",
              "</table>\n",
              "</div>"
            ],
            "text/plain": [
              "                  Latency on CPU (ms)\n",
              "Without pipeline               889.07\n",
              "With pipeline                  872.47"
            ]
          },
          "metadata": {},
          "execution_count": 24
        }
      ]
    },
    {
      "cell_type": "code",
      "metadata": {
        "colab": {
          "base_uri": "https://localhost:8080/",
          "height": 352
        },
        "id": "QfTf24EPMLAR",
        "outputId": "4df21df0-39aa-4fa5-e10c-60b812755540"
      },
      "source": [
        "import numpy as np\n",
        "import matplotlib.pyplot as plt\n",
        "\n",
        "labels = ['CPU']\n",
        "data = [mean_time_cpu, pipeline_mean_time_cpu]\n",
        "\n",
        "fig = plt.figure()\n",
        "ax = fig.add_axes([0,0,1,1])\n",
        "\n",
        "X = np.arange(1)\n",
        "ax.bar(X - 0.1, data[0], color = 'r', width = 0.2, label='Without pipeline')\n",
        "ax.bar(X + 0.1, data[1], color = 'g', width = 0.2, label='With pipeline')\n",
        "\n",
        "# axes and title\n",
        "x = np.arange(len(labels))  # the label locations\n",
        "ax.set_xticks(x)\n",
        "ax.set_xticklabels(labels)\n",
        "ax.set_ylabel('Latency (ms)')\n",
        "ax.set_title('Inference latency of PyTorch model (CPU) in Google Colab')\n",
        "\n",
        "leg = ax.legend();"
      ],
      "execution_count": 25,
      "outputs": [
        {
          "output_type": "display_data",
          "data": {
            "image/png": "[encoded data removed]",
            "text/plain": [
              "<Figure size 432x288 with 1 Axes>"
            ]
          },
          "metadata": {
            "needs_background": "light"
          }
        }
      ]
    },
    {
      "cell_type": "markdown",
      "metadata": {
        "id": "kIWlIBvkMLAS"
      },
      "source": [
        "Pipeline does not help improve latency on CPU."
      ]
    },
    {
      "cell_type": "markdown",
      "metadata": {
        "id": "s6ZTYbyBB9F8"
      },
      "source": [
        "## 3. Inference time | ONNX Runtime"
      ]
    },
    {
      "cell_type": "markdown",
      "metadata": {
        "id": "6WuzVpniCACF"
      },
      "source": [
        "[ONNX Runtime](https://onnxruntime.ai/) helps **accelerate PyTorch and TensorFlow models in production, on CPU or GPU**. As an open source library built for performance and broad platform support, ONNX Runtime is used in products and services handling over 20 billion inferences each day. "
      ]
    },
    {
      "cell_type": "markdown",
      "metadata": {
        "id": "n9AcUibxJGXt"
      },
      "source": [
        "### 3.1 Old method | convert_graph_to_onnx.py"
      ]
    },
    {
      "cell_type": "markdown",
      "metadata": {
        "id": "G6AD86PrI99o"
      },
      "source": [
        "You can use ONNX Runtime and Hugging Face Transformers together to improve the experience of training and deploying NLP models. Hugging Face has made it easy to inference Transformer models with ONNX Runtime with the [transformers/convert_graph_to_onnx.py](https://github.com/huggingface/transformers/blob/master/src/transformers/convert_graph_to_onnx.py) which generates a model that can be loaded by ONNX Runtime."
      ]
    },
    {
      "cell_type": "code",
      "metadata": {
        "colab": {
          "base_uri": "https://localhost:8080/"
        },
        "id": "691vn7sAGypy",
        "outputId": "e29eb83b-952e-47a0-de37-798f0b148849"
      },
      "source": [
        "!python -m transformers.onnx --help"
      ],
      "execution_count": 26,
      "outputs": [
        {
          "output_type": "stream",
          "name": "stdout",
          "text": [
            "usage: Hugging Face ONNX Exporter tool [-h] -m MODEL\n",
            "                                       [--feature {causal-lm,causal-lm-with-past,default,default-with-past,masked-lm,seq2seq-lm,seq2seq-lm-with-past,sequence-classification,sequence-classification-with-past,token-classification}]\n",
            "                                       [--opset OPSET] [--atol ATOL]\n",
            "                                       output\n",
            "\n",
            "positional arguments:\n",
            "  output                Path indicating where to store generated ONNX model.\n",
            "\n",
            "optional arguments:\n",
            "  -h, --help            show this help message and exit\n",
            "  -m MODEL, --model MODEL\n",
            "                        Model's name of path on disk to load.\n",
            "  --feature {causal-lm,causal-lm-with-past,default,default-with-past,masked-lm,seq2seq-lm,seq2seq-lm-with-past,sequence-classification,sequence-classification-with-past,token-classification}\n",
            "                        Export the model with some additional feature.\n",
            "  --opset OPSET         ONNX opset version to export the model with (default\n",
            "                        12).\n",
            "  --atol ATOL           Absolute difference tolerence when validating the\n",
            "                        model.\n"
          ]
        }
      ]
    },
    {
      "cell_type": "markdown",
      "metadata": {
        "id": "jpByQiFAeOoY"
      },
      "source": [
        "````\n",
        "SUPPORTED_PIPELINES = [\n",
        "    \"feature-extraction\",\n",
        "    \"ner\",\n",
        "    \"sentiment-analysis\",\n",
        "    \"fill-mask\",\n",
        "    \"question-answering\",\n",
        "    \"text-generation\",\n",
        "    \"translation_en_to_fr\",\n",
        "    \"translation_en_to_de\",\n",
        "    \"translation_en_to_ro\",\n",
        "]\n",
        "````"
      ]
    },
    {
      "cell_type": "markdown",
      "metadata": {
        "id": "MIq7eMLLdBWf"
      },
      "source": [
        "Get the file convert_graph_to_onnx.py"
      ]
    },
    {
      "cell_type": "code",
      "metadata": {
        "colab": {
          "base_uri": "https://localhost:8080/"
        },
        "id": "GrSHTpBILZPd",
        "outputId": "04b9e71e-4591-4e9b-ec3f-7a0206bbdb5e"
      },
      "source": [
        "!wget https://raw.githubusercontent.com/huggingface/transformers/master/src/transformers/convert_graph_to_onnx.py"
      ],
      "execution_count": 27,
      "outputs": [
        {
          "output_type": "stream",
          "name": "stdout",
          "text": [
            "--2021-10-23 16:56:09--  https://raw.githubusercontent.com/huggingface/transformers/master/src/transformers/convert_graph_to_onnx.py\n",
            "Resolving raw.githubusercontent.com (raw.githubusercontent.com)... 185.199.108.133, 185.199.109.133, 185.199.110.133, ...\n",
            "Connecting to raw.githubusercontent.com (raw.githubusercontent.com)|185.199.108.133|:443... connected.\n",
            "HTTP request sent, awaiting response... 200 OK\n",
            "Length: 18640 (18K) [text/plain]\n",
            "Saving to: ‘convert_graph_to_onnx.py’\n",
            "\n",
            "\rconvert_graph_to_on   0%[                    ]       0  --.-KB/s               \rconvert_graph_to_on 100%[===================>]  18.20K  --.-KB/s    in 0s      \n",
            "\n",
            "2021-10-23 16:56:10 (43.5 MB/s) - ‘convert_graph_to_onnx.py’ saved [18640/18640]\n",
            "\n"
          ]
        }
      ]
    },
    {
      "cell_type": "markdown",
      "metadata": {
        "id": "rtxn_TnPUqYZ"
      },
      "source": [
        "### 3.1.1 Tokenize the inputs"
      ]
    },
    {
      "cell_type": "code",
      "metadata": {
        "id": "371tF1SsYhwM"
      },
      "source": [
        "from transformers import AutoTokenizer\n",
        "\n",
        "tokenizer = AutoTokenizer.from_pretrained(model_checkpoint, use_fast=True)"
      ],
      "execution_count": 28,
      "outputs": []
    },
    {
      "cell_type": "code",
      "metadata": {
        "colab": {
          "base_uri": "https://localhost:8080/"
        },
        "id": "oDusFXaeUqYa",
        "outputId": "91bee422-0270-4b47-efaf-0f87158826af"
      },
      "source": [
        "num=100\n",
        "\n",
        "total = 0\n",
        "for i in range(num):\n",
        "  start = perf_counter()\n",
        "  # WARNING!!!!!!! return_tensors=\"np\" and not return_tensors=\"pt\"\n",
        "  inputs = tokenizer(question, context, add_special_tokens=True, return_tensors=\"np\")\n",
        "  diff = perf_counter() - start\n",
        "  total += diff\n",
        "\n",
        "onnx_mean_tokenizer = round((total/num)*1000,2)\n",
        "print(f'average time: {onnx_mean_tokenizer} ms')"
      ],
      "execution_count": 29,
      "outputs": [
        {
          "output_type": "stream",
          "name": "stdout",
          "text": [
            "average time: 0.71 ms\n"
          ]
        }
      ]
    },
    {
      "cell_type": "markdown",
      "metadata": {
        "id": "meVmR4E6L3va"
      },
      "source": [
        "### 3.1.2 Model on CPU"
      ]
    },
    {
      "cell_type": "markdown",
      "metadata": {
        "id": "Ce7NwpoITBr3"
      },
      "source": [
        "#### Installation"
      ]
    },
    {
      "cell_type": "code",
      "metadata": {
        "id": "arWxHIgrJrqq"
      },
      "source": [
        "%%capture\n",
        "# onnxruntime cpu\n",
        "!pip install onnx\n",
        "!pip install onnxruntime"
      ],
      "execution_count": 30,
      "outputs": []
    },
    {
      "cell_type": "code",
      "metadata": {
        "colab": {
          "base_uri": "https://localhost:8080/",
          "height": 35
        },
        "id": "JyCazZPzMdFs",
        "outputId": "6aef6e85-348e-48dc-bf8d-9b1745c5045a"
      },
      "source": [
        "import onnxruntime as ort\n",
        "ort.get_device()"
      ],
      "execution_count": 31,
      "outputs": [
        {
          "output_type": "execute_result",
          "data": {
            "application/vnd.google.colaboratory.intrinsic+json": {
              "type": "string"
            },
            "text/plain": [
              "'CPU'"
            ]
          },
          "metadata": {},
          "execution_count": 31
        }
      ]
    },
    {
      "cell_type": "code",
      "metadata": {
        "colab": {
          "base_uri": "https://localhost:8080/"
        },
        "id": "pfevyxkXdopX",
        "outputId": "fc6a6eac-c8e4-47f2-cfa2-d770389b4711"
      },
      "source": [
        "import onnxruntime\n",
        "print(\"onnxruntime:\",onnxruntime.__version__)"
      ],
      "execution_count": 32,
      "outputs": [
        {
          "output_type": "stream",
          "name": "stdout",
          "text": [
            "onnxruntime: 1.9.0\n"
          ]
        }
      ]
    },
    {
      "cell_type": "markdown",
      "metadata": {
        "id": "Q7JbUW_0dE53"
      },
      "source": [
        "#### Convert the transformer model to its quantized onnx version"
      ]
    },
    {
      "cell_type": "code",
      "metadata": {
        "colab": {
          "base_uri": "https://localhost:8080/"
        },
        "id": "ASCjNxFpJosm",
        "outputId": "b446fa9e-9b1b-4b69-8f58-8fa8f064912b"
      },
      "source": [
        "model_checkpoint_onnx = 'onnx_cpu/' + model_checkpoint.replace('/','-') + '.onnx'\n",
        "\n",
        "!python convert_graph_to_onnx.py \\\n",
        "--pipeline question-answering \\\n",
        "--model {model_checkpoint} \\\n",
        "--tokenizer {model_checkpoint} \\\n",
        "--framework pt \\\n",
        "--opset 11 \\\n",
        "--check-loading \\\n",
        "--use-external-format \\\n",
        "--quantize \\\n",
        "{model_checkpoint_onnx}"
      ],
      "execution_count": 33,
      "outputs": [
        {
          "output_type": "stream",
          "name": "stdout",
          "text": [
            "\n",
            "====== Converting model to ONNX ======\n",
            "ONNX opset version set to: 11\n",
            "Loading pipeline (model: pierreguillou/bert-base-cased-squad-v1.1-portuguese, tokenizer: pierreguillou/bert-base-cased-squad-v1.1-portuguese)\n",
            "Creating folder /content/onnx_cpu\n",
            "Using framework PyTorch: 1.9.0+cu111\n",
            "Found input input_ids with shape: {0: 'batch', 1: 'sequence'}\n",
            "Found input token_type_ids with shape: {0: 'batch', 1: 'sequence'}\n",
            "Found input attention_mask with shape: {0: 'batch', 1: 'sequence'}\n",
            "Found output output_0 with shape: {0: 'batch', 1: 'sequence'}\n",
            "Found output output_1 with shape: {0: 'batch', 1: 'sequence'}\n",
            "Ensuring inputs are in correct order\n",
            "position_ids is not present in the generated input list.\n",
            "Generated inputs order: ['input_ids', 'attention_mask', 'token_type_ids']\n",
            "\n",
            "====== Optimizing ONNX model ======\n",
            "2021-10-23 16:56:33.317869392 [W:onnxruntime:, inference_session.cc:1419 Initialize] Serializing optimized model with Graph Optimization level greater than ORT_ENABLE_EXTENDED and the NchwcTransformer enabled. The generated model may contain hardware specific optimizations, and should only be used in the same environment the model was optimized in.\n",
            "Optimized model has been written at /content/onnx_cpu/pierreguillou-bert-base-cased-squad-v1.onnx: ✔\n",
            "/!\\ Optimized model contains hardware specific operators which might not be portable. /!\\\n",
            "As of onnxruntime 1.4.0, models larger than 2GB will fail to quantize due to protobuf constraint.\n",
            "This limitation will be removed in the next release of onnxruntime.\n",
            "WARNING:root:onnxruntime.quantization.quantize is deprecated.\n",
            "         Please use quantize_static for static quantization, quantize_dynamic for dynamic quantization.\n",
            "Warning: Unsupported operator LayerNormalization. No schema registered for this operator.\n",
            "Warning: Unsupported operator FusedMatMul. No schema registered for this operator.\n",
            "Warning: Unsupported operator LayerNormalization. No schema registered for this operator.\n",
            "Warning: Unsupported operator Gelu. No schema registered for this operator.\n",
            "Warning: Unsupported operator LayerNormalization. No schema registered for this operator.\n",
            "Warning: Unsupported operator FusedMatMul. No schema registered for this operator.\n",
            "Warning: Unsupported operator LayerNormalization. No schema registered for this operator.\n",
            "Warning: Unsupported operator Gelu. No schema registered for this operator.\n",
            "Warning: Unsupported operator LayerNormalization. No schema registered for this operator.\n",
            "Warning: Unsupported operator FusedMatMul. No schema registered for this operator.\n",
            "Warning: Unsupported operator LayerNormalization. No schema registered for this operator.\n",
            "Warning: Unsupported operator Gelu. No schema registered for this operator.\n",
            "Warning: Unsupported operator LayerNormalization. No schema registered for this operator.\n",
            "Warning: Unsupported operator FusedMatMul. No schema registered for this operator.\n",
            "Warning: Unsupported operator LayerNormalization. No schema registered for this operator.\n",
            "Warning: Unsupported operator Gelu. No schema registered for this operator.\n",
            "Warning: Unsupported operator LayerNormalization. No schema registered for this operator.\n",
            "Warning: Unsupported operator FusedMatMul. No schema registered for this operator.\n",
            "Warning: Unsupported operator LayerNormalization. No schema registered for this operator.\n",
            "Warning: Unsupported operator Gelu. No schema registered for this operator.\n",
            "Warning: Unsupported operator LayerNormalization. No schema registered for this operator.\n",
            "Warning: Unsupported operator FusedMatMul. No schema registered for this operator.\n",
            "Warning: Unsupported operator LayerNormalization. No schema registered for this operator.\n",
            "Warning: Unsupported operator Gelu. No schema registered for this operator.\n",
            "Warning: Unsupported operator LayerNormalization. No schema registered for this operator.\n",
            "Warning: Unsupported operator FusedMatMul. No schema registered for this operator.\n",
            "Warning: Unsupported operator LayerNormalization. No schema registered for this operator.\n",
            "Warning: Unsupported operator Gelu. No schema registered for this operator.\n",
            "Warning: Unsupported operator LayerNormalization. No schema registered for this operator.\n",
            "Warning: Unsupported operator FusedMatMul. No schema registered for this operator.\n",
            "Warning: Unsupported operator LayerNormalization. No schema registered for this operator.\n",
            "Warning: Unsupported operator Gelu. No schema registered for this operator.\n",
            "Warning: Unsupported operator LayerNormalization. No schema registered for this operator.\n",
            "Warning: Unsupported operator FusedMatMul. No schema registered for this operator.\n",
            "Warning: Unsupported operator LayerNormalization. No schema registered for this operator.\n",
            "Warning: Unsupported operator Gelu. No schema registered for this operator.\n",
            "Warning: Unsupported operator LayerNormalization. No schema registered for this operator.\n",
            "Warning: Unsupported operator FusedMatMul. No schema registered for this operator.\n",
            "Warning: Unsupported operator LayerNormalization. No schema registered for this operator.\n",
            "Warning: Unsupported operator Gelu. No schema registered for this operator.\n",
            "Warning: Unsupported operator LayerNormalization. No schema registered for this operator.\n",
            "Warning: Unsupported operator FusedMatMul. No schema registered for this operator.\n",
            "Warning: Unsupported operator LayerNormalization. No schema registered for this operator.\n",
            "Warning: Unsupported operator Gelu. No schema registered for this operator.\n",
            "Warning: Unsupported operator LayerNormalization. No schema registered for this operator.\n",
            "Warning: Unsupported operator FusedMatMul. No schema registered for this operator.\n",
            "Warning: Unsupported operator LayerNormalization. No schema registered for this operator.\n",
            "Warning: Unsupported operator Gelu. No schema registered for this operator.\n",
            "Warning: Unsupported operator LayerNormalization. No schema registered for this operator.\n",
            "Quantized model has been written at /content/onnx_cpu/pierreguillou-bert-base-cased-squad-v1-quantized.onnx: ✔\n",
            "\n",
            "====== Check exported ONNX model(s) ======\n",
            "Checking ONNX model loading from: /content/onnx_cpu/pierreguillou-bert-base-cased-squad-v1.1-portuguese.onnx ...\n",
            "Model /content/onnx_cpu/pierreguillou-bert-base-cased-squad-v1.1-portuguese.onnx correctly loaded: ✔\n",
            "Checking ONNX model loading from: /content/onnx_cpu/pierreguillou-bert-base-cased-squad-v1.onnx ...\n",
            "Model /content/onnx_cpu/pierreguillou-bert-base-cased-squad-v1.onnx correctly loaded: ✔\n",
            "Checking ONNX model loading from: /content/onnx_cpu/pierreguillou-bert-base-cased-squad-v1-quantized.onnx ...\n",
            "Model /content/onnx_cpu/pierreguillou-bert-base-cased-squad-v1-quantized.onnx correctly loaded: ✔\n"
          ]
        }
      ]
    },
    {
      "cell_type": "markdown",
      "metadata": {
        "id": "DaUBCbBVRTLS"
      },
      "source": [
        "#### Import the onnx quantized version of the model"
      ]
    },
    {
      "cell_type": "code",
      "metadata": {
        "id": "evHBG4EbN99U"
      },
      "source": [
        "import onnxruntime as ort\n",
        "\n",
        "# copy/paste the path to the file xxx.quantized.onnx\n",
        "ort_session = ort.InferenceSession(\"/content/\" + model_checkpoint_onnx)"
      ],
      "execution_count": 34,
      "outputs": []
    },
    {
      "cell_type": "markdown",
      "metadata": {
        "id": "9jl869YbRNwD"
      },
      "source": [
        "#### Run the onnx model"
      ]
    },
    {
      "cell_type": "code",
      "metadata": {
        "colab": {
          "base_uri": "https://localhost:8080/"
        },
        "id": "anXCXVTAUIgv",
        "outputId": "716b3014-a035-4d86-d0ec-94a345de7723"
      },
      "source": [
        "num = 100\n",
        "\n",
        "total = 0\n",
        "for i in range(num):\n",
        "  start = perf_counter()\n",
        "  outputs = ort_session.run(None, dict(inputs))\n",
        "  diff = perf_counter() - start\n",
        "  total += diff\n",
        "\n",
        "onnx_mean_time_cpu = round((total/num)*1000,2)\n",
        "print(f'average time: {onnx_mean_time_cpu} ms')"
      ],
      "execution_count": 35,
      "outputs": [
        {
          "output_type": "stream",
          "name": "stdout",
          "text": [
            "average time: 711.5 ms\n"
          ]
        }
      ]
    },
    {
      "cell_type": "markdown",
      "metadata": {
        "id": "4I9gMNPvVKD6"
      },
      "source": [
        "Now, we can evaluate the time to get the answer."
      ]
    },
    {
      "cell_type": "code",
      "metadata": {
        "colab": {
          "base_uri": "https://localhost:8080/"
        },
        "id": "bUNtq4WaVV5I",
        "outputId": "f37643a6-cda9-46bd-e7db-49c397eaec7e"
      },
      "source": [
        "num = 100\n",
        "\n",
        "total = 0\n",
        "for i in range(num):\n",
        "  start = perf_counter()\n",
        "  # code source: https://huggingface.co/transformers/master/task_summary.html#extractive-question-answering\n",
        "\n",
        "  answer_start_scores = outputs[0]\n",
        "  answer_end_scores = outputs[1]\n",
        "\n",
        "  # Get the most likely beginning of answer with the argmax of the score\n",
        "  answer_start = np.argmax(answer_start_scores)\n",
        "  # Get the most likely end of answer with the argmax of the score\n",
        "  answer_end = np.argmax(answer_end_scores) + 1\n",
        "\n",
        "  input_ids = inputs[\"input_ids\"].tolist()[0]\n",
        "  answer = tokenizer.convert_tokens_to_string(tokenizer.convert_ids_to_tokens(input_ids[answer_start:answer_end]))\n",
        "\n",
        "  diff = perf_counter() - start\n",
        "  total += diff\n",
        "  \n",
        "  # print(f\"Question: {question}\")\n",
        "  # print(f\"Answer: {answer}\")\n",
        "\n",
        "onnx_mean_time_cpu_answer = round((total/num)*1000,2)\n",
        "print(f'average time: {onnx_mean_time_cpu_answer} ms')"
      ],
      "execution_count": 36,
      "outputs": [
        {
          "output_type": "stream",
          "name": "stdout",
          "text": [
            "average time: 0.07 ms\n"
          ]
        }
      ]
    },
    {
      "cell_type": "code",
      "metadata": {
        "colab": {
          "base_uri": "https://localhost:8080/"
        },
        "id": "VQyCmfZUX5nI",
        "outputId": "0b62816c-007a-4742-e308-4c266eec788f"
      },
      "source": [
        "print(f\"Question: {question}\")\n",
        "print(f\"Answer: {answer}\")"
      ],
      "execution_count": 37,
      "outputs": [
        {
          "output_type": "stream",
          "name": "stdout",
          "text": [
            "Question: Quando começou a pandemia de Covid-19 no mundo?\n",
            "Answer: 1 de dezembro de 2019\n"
          ]
        }
      ]
    },
    {
      "cell_type": "markdown",
      "metadata": {
        "id": "cQEOebWYVV5J"
      },
      "source": [
        "Then, we have the total time when the model is on the CPU:"
      ]
    },
    {
      "cell_type": "code",
      "metadata": {
        "colab": {
          "base_uri": "https://localhost:8080/"
        },
        "id": "UDRAppQ_VV5J",
        "outputId": "e93d474a-ac54-41b7-a471-e5b1e94adc4d"
      },
      "source": [
        "onnx_total_cpu = round(onnx_mean_tokenizer + onnx_mean_time_cpu + onnx_mean_time_cpu_answer,2)\n",
        "print(f'time: {onnx_total_cpu} ms')"
      ],
      "execution_count": 38,
      "outputs": [
        {
          "output_type": "stream",
          "name": "stdout",
          "text": [
            "time: 712.28 ms\n"
          ]
        }
      ]
    },
    {
      "cell_type": "markdown",
      "metadata": {
        "id": "rDV-A-S_cxwR"
      },
      "source": [
        "### 3.1.4 Results with ONNX Runtime"
      ]
    },
    {
      "cell_type": "code",
      "metadata": {
        "colab": {
          "base_uri": "https://localhost:8080/",
          "height": 112
        },
        "id": "UcXeFapAzs2I",
        "outputId": "54d9c54e-9a78-4d91-a0a2-053979d116bc"
      },
      "source": [
        "import pandas as pd\n",
        "\n",
        "raw_data = {\n",
        "            'Latency on CPU (ms)': [mean_time_cpu, onnx_mean_time_cpu],\n",
        "            }\n",
        "\n",
        "df = pd.DataFrame(raw_data,\n",
        "                  index=pd.Index(['PyTorch (without pipeline)', 'ONNX Runtime']),\n",
        "                  columns=pd.Index(['Latency on CPU (ms)']))\n",
        "\n",
        "df"
      ],
      "execution_count": 39,
      "outputs": [
        {
          "output_type": "execute_result",
          "data": {
            "text/html": [
              "<div>\n",
              "<style scoped>\n",
              "    .dataframe tbody tr th:only-of-type {\n",
              "        vertical-align: middle;\n",
              "    }\n",
              "\n",
              "    .dataframe tbody tr th {\n",
              "        vertical-align: top;\n",
              "    }\n",
              "\n",
              "    .dataframe thead th {\n",
              "        text-align: right;\n",
              "    }\n",
              "</style>\n",
              "<table border=\"1\" class=\"dataframe\">\n",
              "  <thead>\n",
              "    <tr style=\"text-align: right;\">\n",
              "      <th></th>\n",
              "      <th>Latency on CPU (ms)</th>\n",
              "    </tr>\n",
              "  </thead>\n",
              "  <tbody>\n",
              "    <tr>\n",
              "      <th>PyTorch (without pipeline)</th>\n",
              "      <td>889.07</td>\n",
              "    </tr>\n",
              "    <tr>\n",
              "      <th>ONNX Runtime</th>\n",
              "      <td>711.50</td>\n",
              "    </tr>\n",
              "  </tbody>\n",
              "</table>\n",
              "</div>"
            ],
            "text/plain": [
              "                            Latency on CPU (ms)\n",
              "PyTorch (without pipeline)               889.07\n",
              "ONNX Runtime                             711.50"
            ]
          },
          "metadata": {},
          "execution_count": 39
        }
      ]
    },
    {
      "cell_type": "code",
      "metadata": {
        "colab": {
          "base_uri": "https://localhost:8080/",
          "height": 352
        },
        "id": "8By6zvp_cxwR",
        "outputId": "1134015c-17a1-458c-b27f-1716404e1bf7"
      },
      "source": [
        "import numpy as np\n",
        "import matplotlib.pyplot as plt\n",
        "\n",
        "labels = ['CPU']\n",
        "data = [mean_time_cpu, onnx_mean_time_cpu]\n",
        "\n",
        "fig = plt.figure()\n",
        "ax = fig.add_axes([0,0,1,1])\n",
        "\n",
        "X = np.arange(1)\n",
        "ax.bar(X - 0.1, data[0], color = 'r', width = 0.2, label='PyTorch (without pipeline)')\n",
        "ax.bar(X + 0.1, data[1], color = 'g', width = 0.2, label='ONNX Runtime')\n",
        "\n",
        "# axes and title\n",
        "x = np.arange(len(labels))  # the label locations\n",
        "ax.set_xticks(x)\n",
        "ax.set_xticklabels(labels)\n",
        "ax.set_ylabel('Latency (ms)')\n",
        "ax.set_title('Inference latency (CPU) in Google Colab')\n",
        "\n",
        "leg = ax.legend();"
      ],
      "execution_count": 40,
      "outputs": [
        {
          "output_type": "display_data",
          "data": {
            "image/png": "[encoded data removed]",
            "text/plain": [
              "<Figure size 432x288 with 1 Axes>"
            ]
          },
          "metadata": {
            "needs_background": "light"
          }
        }
      ]
    },
    {
      "cell_type": "markdown",
      "metadata": {
        "id": "1WI18RL5cxwR"
      },
      "source": [
        "- ONNX Runtime helps improve latency on CPU (just a bit).\n",
        "- On CPU, using **ONNX Runtime** allows inferring up to **1.2 times faster** than with the PyTorch model (**632.58 ms** with ONNX Runtime)."
      ]
    },
    {
      "cell_type": "markdown",
      "metadata": {
        "id": "qPQdX75lWG1C"
      },
      "source": [
        "### 3.2 New method | transformers.onnx"
      ]
    },
    {
      "cell_type": "markdown",
      "metadata": {
        "id": "_lBK1y0UFjSO"
      },
      "source": [
        "(source: [Configuration-based approach](https://huggingface.co/transformers/master/serialization.html#configuration-based-approach)) Transformers v4.9.0 introduces a new package: `transformers.onnx`. **This package allows converting checkpoints to an ONNX graph by leveraging configuration objects.** These configuration objects come ready made for a number of model architectures, and are made to be easily extendable to other architectures.\n",
        "\n",
        "Ready-made configurations include the following models:\n",
        "\n",
        "````\n",
        "ALBERT\n",
        "BART\n",
        "BERT\n",
        "DistilBERT\n",
        "GPT Neo\n",
        "LayoutLM\n",
        "Longformer\n",
        "mBART\n",
        "OpenAI GPT-2\n",
        "RoBERTa\n",
        "T5\n",
        "XLM-RoBERTa\n",
        "````"
      ]
    },
    {
      "cell_type": "markdown",
      "metadata": {
        "id": "LdKK7nYXWib8"
      },
      "source": [
        "Run `transformers.onnx` (or the conversion script located at [transformers/convert_graph_to_onnx.py](https://github.com/huggingface/transformers/blob/master/src/transformers/convert_graph_to_onnx.py)). This script takes a few arguments such as the model to be exported and the framework you want to export from (PyTorch or TensorFlow)."
      ]
    },
    {
      "cell_type": "markdown",
      "metadata": {
        "id": "8taFL-OHddE_"
      },
      "source": [
        "**WARNING**: which arguments to use?"
      ]
    },
    {
      "cell_type": "markdown",
      "metadata": {
        "id": "mKf91Ju0Wib8"
      },
      "source": [
        "It will be exported under `onnx/pierreguillou-bert-base-cased-squad-v1.1-portuguese`."
      ]
    },
    {
      "cell_type": "code",
      "metadata": {
        "colab": {
          "base_uri": "https://localhost:8080/"
        },
        "id": "X-sH97kXWib8",
        "outputId": "645bf295-26a6-4923-d111-11bf7738ccdc"
      },
      "source": [
        "%%time\n",
        "model_checkpoint_onnx = 'onnx/' + model_checkpoint.replace('/','-')\n",
        "\n",
        "!python -m transformers.onnx --model {model_checkpoint} {model_checkpoint_onnx}"
      ],
      "execution_count": 41,
      "outputs": [
        {
          "output_type": "stream",
          "name": "stdout",
          "text": [
            "Some weights of the model checkpoint at pierreguillou/bert-base-cased-squad-v1.1-portuguese were not used when initializing BertModel: ['qa_outputs.bias', 'qa_outputs.weight']\n",
            "- This IS expected if you are initializing BertModel from the checkpoint of a model trained on another task or with another architecture (e.g. initializing a BertForSequenceClassification model from a BertForPreTraining model).\n",
            "- This IS NOT expected if you are initializing BertModel from the checkpoint of a model that you expect to be exactly identical (initializing a BertForSequenceClassification model from a BertForSequenceClassification model).\n",
            "Some weights of BertModel were not initialized from the model checkpoint at pierreguillou/bert-base-cased-squad-v1.1-portuguese and are newly initialized: ['bert.pooler.dense.bias', 'bert.pooler.dense.weight']\n",
            "You should probably TRAIN this model on a down-stream task to be able to use it for predictions and inference.\n",
            "Using framework PyTorch: 1.9.0+cu111\n",
            "Overriding 1 configuration item(s)\n",
            "\t- use_cache -> False\n",
            "Validating ONNX model...\n",
            "\t-[✓] ONNX model outputs' name match reference model ({'pooler_output', 'last_hidden_state'}\n",
            "\t- Validating ONNX Model output \"last_hidden_state\":\n",
            "\t\t-[✓] (2, 8, 768) matches (2, 8, 768)\n",
            "\t\t-[✓] all values close (atol: 0.0001)\n",
            "\t- Validating ONNX Model output \"pooler_output\":\n",
            "\t\t-[✓] (2, 768) matches (2, 768)\n",
            "\t\t-[✓] all values close (atol: 0.0001)\n",
            "All good, model saved at: onnx/pierreguillou-bert-base-cased-squad-v1.1-portuguese/model.onnx\n",
            "CPU times: user 104 ms, sys: 43.8 ms, total: 148 ms\n",
            "Wall time: 13.3 s\n"
          ]
        }
      ]
    },
    {
      "cell_type": "markdown",
      "metadata": {
        "id": "cKopthXBSXAP"
      },
      "source": [
        "The outputs can be obtained by taking a look at the ONNX configuration of each model. For example, for BERT:"
      ]
    },
    {
      "cell_type": "code",
      "metadata": {
        "colab": {
          "base_uri": "https://localhost:8080/"
        },
        "id": "M-KOpz6RSIH1",
        "outputId": "52a26a73-2c2d-406a-ea23-0fab95205fb8"
      },
      "source": [
        "from transformers.models.bert import BertOnnxConfig, BertConfig\n",
        "\n",
        "config = BertConfig()\n",
        "onnx_config = BertOnnxConfig(config)\n",
        "output_keys = list(onnx_config.outputs.keys())\n",
        "output_keys"
      ],
      "execution_count": 42,
      "outputs": [
        {
          "output_type": "execute_result",
          "data": {
            "text/plain": [
              "['last_hidden_state', 'pooler_output']"
            ]
          },
          "metadata": {},
          "execution_count": 42
        }
      ]
    },
    {
      "cell_type": "markdown",
      "metadata": {
        "id": "rQvqPtLaY3tG"
      },
      "source": [
        "**WARNING**: these outputs do not allow to get an answer!!!!!"
      ]
    },
    {
      "cell_type": "markdown",
      "metadata": {
        "id": "SC7iQP-sdjpR"
      },
      "source": [
        "We can not continue. "
      ]
    },
    {
      "cell_type": "code",
      "metadata": {
        "id": "0yk6QyZyKv4k"
      },
      "source": [
        "# import onnxruntime as ort\n",
        "# ort_session = ort.InferenceSession('onnx/pierreguillou-bert-base-cased-squad-v1.1-portuguese/model.onnx')"
      ],
      "execution_count": 43,
      "outputs": []
    },
    {
      "cell_type": "markdown",
      "metadata": {
        "id": "5K4w5U7u0nKI"
      },
      "source": [
        "## 4. Inference time | TorchScript"
      ]
    },
    {
      "cell_type": "markdown",
      "metadata": {
        "id": "TSA0tteRsiz1"
      },
      "source": [
        "source: https://huggingface.co/transformers/serialization.html#torchscript"
      ]
    },
    {
      "cell_type": "markdown",
      "metadata": {
        "id": "0cmuvCVLsovC"
      },
      "source": [
        "According to Pytorch’s documentation: “TorchScript is a way to create serializable and optimizable models from PyTorch code”. Pytorch’s two modules JIT and TRACE allow the developer to export their model to be re-used in other programs, such as efficiency-oriented C++ programs."
      ]
    },
    {
      "cell_type": "markdown",
      "metadata": {
        "id": "rhJM05N8svj1"
      },
      "source": [
        "Hugging Face provided an interface that allows the export of 🤗 Transformers models to TorchScript so that they can be reused in a different environment than a Pytorch-based python program. "
      ]
    },
    {
      "cell_type": "code",
      "metadata": {
        "id": "2Wt7_TL5P9ZM"
      },
      "source": [
        "from transformers import AutoTokenizer, AutoModelForQuestionAnswering\n",
        "\n",
        "tokenizer = AutoTokenizer.from_pretrained(model_checkpoint, use_fast=True, torchscript=True)\n",
        "model = AutoModelForQuestionAnswering.from_pretrained(model_checkpoint, torchscript=True)\n",
        "model.eval();"
      ],
      "execution_count": 44,
      "outputs": []
    },
    {
      "cell_type": "code",
      "metadata": {
        "colab": {
          "base_uri": "https://localhost:8080/"
        },
        "id": "kqfAkrhgq8fH",
        "outputId": "1a852da1-21e0-455d-ac66-60353597c0fc"
      },
      "source": [
        "model.bert.embeddings.word_embeddings.weight.data[0][0].item()"
      ],
      "execution_count": 45,
      "outputs": [
        {
          "output_type": "execute_result",
          "data": {
            "text/plain": [
              "0.009311608970165253"
            ]
          },
          "metadata": {},
          "execution_count": 45
        }
      ]
    },
    {
      "cell_type": "code",
      "metadata": {
        "colab": {
          "base_uri": "https://localhost:8080/"
        },
        "id": "r6HUX3Ztqunz",
        "outputId": "21623483-034a-4aee-9f9c-6f436b90aa4d"
      },
      "source": [
        "import sys\n",
        "sys.getsizeof(model.bert.embeddings.word_embeddings.weight.data[0][0].item()) "
      ],
      "execution_count": 46,
      "outputs": [
        {
          "output_type": "execute_result",
          "data": {
            "text/plain": [
              "24"
            ]
          },
          "metadata": {},
          "execution_count": 46
        }
      ]
    },
    {
      "cell_type": "markdown",
      "metadata": {
        "id": "hOG6K7tZqK2C"
      },
      "source": [
        "### 4.1 Tokenize the inputs"
      ]
    },
    {
      "cell_type": "code",
      "metadata": {
        "colab": {
          "base_uri": "https://localhost:8080/"
        },
        "id": "OijtuOCLqK2D",
        "outputId": "2ade5358-92f5-47c6-cbe0-ce58e7ebfff3"
      },
      "source": [
        "num=100\n",
        "\n",
        "total = 0\n",
        "for i in range(num):\n",
        "  start = perf_counter()\n",
        "  inputs = tokenizer(question, context, add_special_tokens=True, return_tensors=\"pt\")\n",
        "  diff = perf_counter() - start\n",
        "  total += diff\n",
        "\n",
        "torchscript_mean_tokenizer = round((total/num)*1000,2)\n",
        "print(f'average time: {torchscript_mean_tokenizer} ms')"
      ],
      "execution_count": 47,
      "outputs": [
        {
          "output_type": "stream",
          "name": "stdout",
          "text": [
            "average time: 0.82 ms\n"
          ]
        }
      ]
    },
    {
      "cell_type": "markdown",
      "metadata": {
        "id": "0x_8BGWzQ8Yi"
      },
      "source": [
        "### 4.2 Model on CPU"
      ]
    },
    {
      "cell_type": "code",
      "metadata": {
        "colab": {
          "base_uri": "https://localhost:8080/"
        },
        "id": "AhQwT81X8kk1",
        "outputId": "97fa9a83-6933-4e7f-e53d-7fe96d932b67"
      },
      "source": [
        "# put model and inputs to cpu\n",
        "model = model.to('cpu')\n",
        "inputs = inputs.to('cpu')\n",
        "\n",
        "# get mean time\n",
        "with torch.no_grad():\n",
        "  traced_model = torch.jit.trace(model, [inputs.input_ids,inputs.token_type_ids,inputs.attention_mask])\n",
        "  torchscript_mean_time_cpu = round(np.mean([timer(traced_model,inputs.input_ids,inputs.token_type_ids,inputs.attention_mask) for _ in range(100)]))\n",
        "print(f'{torchscript_mean_time_cpu}ms')"
      ],
      "execution_count": 48,
      "outputs": [
        {
          "output_type": "stream",
          "name": "stdout",
          "text": [
            "849ms\n"
          ]
        }
      ]
    },
    {
      "cell_type": "markdown",
      "metadata": {
        "id": "WABOBcVIqyBx"
      },
      "source": [
        "### 4.3 Results with TorchScript"
      ]
    },
    {
      "cell_type": "code",
      "metadata": {
        "colab": {
          "base_uri": "https://localhost:8080/",
          "height": 143
        },
        "id": "IhqwdJPGqyBy",
        "outputId": "5b7a8005-c2b6-42ca-d3d6-425c26e5669e"
      },
      "source": [
        "import pandas as pd\n",
        "\n",
        "raw_data = {\n",
        "            'Latency on CPU (ms)': [mean_time_cpu, onnx_mean_time_cpu, torchscript_mean_time_cpu],\n",
        "            }\n",
        "\n",
        "df = pd.DataFrame(raw_data,\n",
        "                  index=pd.Index(['PyTorch (without pipeline)', 'ONNX Runtime', 'TorchScript']),\n",
        "                  columns=pd.Index(['Latency on CPU (ms)']))\n",
        "\n",
        "df"
      ],
      "execution_count": 49,
      "outputs": [
        {
          "output_type": "execute_result",
          "data": {
            "text/html": [
              "<div>\n",
              "<style scoped>\n",
              "    .dataframe tbody tr th:only-of-type {\n",
              "        vertical-align: middle;\n",
              "    }\n",
              "\n",
              "    .dataframe tbody tr th {\n",
              "        vertical-align: top;\n",
              "    }\n",
              "\n",
              "    .dataframe thead th {\n",
              "        text-align: right;\n",
              "    }\n",
              "</style>\n",
              "<table border=\"1\" class=\"dataframe\">\n",
              "  <thead>\n",
              "    <tr style=\"text-align: right;\">\n",
              "      <th></th>\n",
              "      <th>Latency on CPU (ms)</th>\n",
              "    </tr>\n",
              "  </thead>\n",
              "  <tbody>\n",
              "    <tr>\n",
              "      <th>PyTorch (without pipeline)</th>\n",
              "      <td>889.07</td>\n",
              "    </tr>\n",
              "    <tr>\n",
              "      <th>ONNX Runtime</th>\n",
              "      <td>711.50</td>\n",
              "    </tr>\n",
              "    <tr>\n",
              "      <th>TorchScript</th>\n",
              "      <td>849.00</td>\n",
              "    </tr>\n",
              "  </tbody>\n",
              "</table>\n",
              "</div>"
            ],
            "text/plain": [
              "                            Latency on CPU (ms)\n",
              "PyTorch (without pipeline)               889.07\n",
              "ONNX Runtime                             711.50\n",
              "TorchScript                              849.00"
            ]
          },
          "metadata": {},
          "execution_count": 49
        }
      ]
    },
    {
      "cell_type": "code",
      "metadata": {
        "colab": {
          "base_uri": "https://localhost:8080/",
          "height": 352
        },
        "id": "4z7trW6yqyBz",
        "outputId": "187a7972-3eeb-456c-c86c-f5e693d49baa"
      },
      "source": [
        "import numpy as np\n",
        "import matplotlib.pyplot as plt\n",
        "\n",
        "labels = ['CPU']\n",
        "data = [mean_time_cpu, onnx_mean_time_cpu, torchscript_mean_time_cpu]\n",
        "\n",
        "fig = plt.figure()\n",
        "ax = fig.add_axes([0,0,1,1])\n",
        "\n",
        "X = np.arange(1)\n",
        "ax.bar(X - 0.2, data[0], color = 'r', width = 0.2, label='PyTorch (without pipeline)')\n",
        "ax.bar(X, data[1], color = 'g', width = 0.2, label='ONNX Runtime')\n",
        "ax.bar(X + 0.2, data[2], color = 'b', width = 0.2, label='TorchScript')\n",
        "\n",
        "# axes and title\n",
        "x = np.arange(len(labels))  # the label locations\n",
        "ax.set_xticks(x)\n",
        "ax.set_xticklabels(labels)\n",
        "ax.set_ylabel('Latency (ms)')\n",
        "ax.set_title('Inference latency (CPU) in Google Colab')\n",
        "\n",
        "leg = ax.legend();"
      ],
      "execution_count": 50,
      "outputs": [
        {
          "output_type": "display_data",
          "data": {
            "image/png": "[encoded data removed]",
            "text/plain": [
              "<Figure size 432x288 with 1 Axes>"
            ]
          },
          "metadata": {
            "needs_background": "light"
          }
        }
      ]
    },
    {
      "cell_type": "markdown",
      "metadata": {
        "id": "8Emg1-pErnr2"
      },
      "source": [
        "- TorchScript does not help improve latency on CPU.\n",
        "- On CPU, it's better to use **ONNX Runtime**."
      ]
    },
    {
      "cell_type": "markdown",
      "metadata": {
        "id": "uMgo0Poja70v"
      },
      "source": [
        "# END"
      ]
    }
  ]
}